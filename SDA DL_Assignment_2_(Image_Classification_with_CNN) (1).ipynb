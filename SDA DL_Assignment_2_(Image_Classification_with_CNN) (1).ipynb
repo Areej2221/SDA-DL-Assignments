{
 "cells": [
  {
   "cell_type": "markdown",
   "metadata": {
    "id": "QM-VMl0DuPPd"
   },
   "source": [
    "___\n",
    "\n",
    "<p style=\"text-align: center;\"><img src=\"https://docs.google.com/uc?id=1lY0Uj5R04yMY3-ZppPWxqCr5pvBLYPnV\" class=\"img-fluid\" alt=\"CLRSWY\"></p>\n",
    "\n",
    "___"
   ]
  },
  {
   "cell_type": "markdown",
   "metadata": {
    "id": "WRQSVa6quPPj"
   },
   "source": [
    "<h1 style=\"text-align: center;\">Deep Learning<br><br>Assignment-2 (CNN)<br><br>Image Classification with CNN<br><h1>"
   ]
  },
  {
   "cell_type": "markdown",
   "metadata": {
    "id": "FtI9UZ2XuPPk"
   },
   "source": [
    "# Task and Dataset Info\n",
    "\n",
    "Welcome to second assignment of Deep learning lesson. Follow the instructions and complete the assignment.\n",
    "\n",
    "**Build an image classifier with Convolutional Neural Networks for the Fashion MNIST dataset. This data set includes 10 labels of different clothing types with 28 by 28 *grayscale* images. There is a training set of 60,000 images and 10,000 test images.**\n",
    "\n",
    "    Label\tDescription\n",
    "    0\t    T-shirt/top\n",
    "    1\t    Trouser\n",
    "    2\t    Pullover\n",
    "    3\t    Dress\n",
    "    4\t    Coat\n",
    "    5\t    Sandal\n",
    "    6\t    Shirt\n",
    "    7\t    Sneaker\n",
    "    8\t    Bag\n",
    "    9\t    Ankle boot"
   ]
  },
  {
   "cell_type": "markdown",
   "metadata": {
    "id": "LEloBN6iuPPl"
   },
   "source": [
    "# Import Libraries"
   ]
  },
  {
   "cell_type": "code",
   "execution_count": 46,
   "metadata": {
    "id": "me2vX8amuPPn"
   },
   "outputs": [],
   "source": [
    "import numpy as np\n",
    "import pandas as pd\n",
    "import matplotlib.pyplot as plt\n",
    "%matplotlib inline \n",
    "import seaborn as sns\n",
    "\n",
    "from tensorflow import keras\n",
    "import tensorflow as tf\n",
    "from tensorflow.keras import layers\n",
    "from keras.models import Sequential\n",
    "from keras.layers import Dense, Dropout, Conv2D, MaxPool2D, Flatten, Input\n",
    "from keras.utils import to_categorical\n",
    "from tensorflow.keras.callbacks import EarlyStopping\n",
    "from tensorflow.keras import regularizers\n",
    "\n",
    "\n",
    "\n",
    "plt.rcParams[\"figure.figsize\"] = (10, 6)\n",
    "sns.set_style(\"whitegrid\")\n",
    "pd.set_option(\"display.float_format\", lambda x: \"%.3f\" % x)\n",
    "pd.set_option(\"display.max_columns\", None)"
   ]
  },
  {
   "cell_type": "markdown",
   "metadata": {
    "id": "fp9YYlftuPPo"
   },
   "source": [
    "# Recognizing and Understanding Data\n",
    "\n",
    "**TASK 1: Run the code below to download the dataset using Keras.**"
   ]
  },
  {
   "cell_type": "code",
   "execution_count": 2,
   "metadata": {
    "id": "XmZCi2UmuPPp"
   },
   "outputs": [
    {
     "name": "stdout",
     "output_type": "stream",
     "text": [
      "Downloading data from https://storage.googleapis.com/tensorflow/tf-keras-datasets/train-labels-idx1-ubyte.gz\n",
      "29515/29515 [==============================] - 0s 2us/step\n",
      "Downloading data from https://storage.googleapis.com/tensorflow/tf-keras-datasets/train-images-idx3-ubyte.gz\n",
      "26421880/26421880 [==============================] - 3s 0us/step\n",
      "Downloading data from https://storage.googleapis.com/tensorflow/tf-keras-datasets/t10k-labels-idx1-ubyte.gz\n",
      "5148/5148 [==============================] - 0s 0s/step\n",
      "Downloading data from https://storage.googleapis.com/tensorflow/tf-keras-datasets/t10k-images-idx3-ubyte.gz\n",
      "4422102/4422102 [==============================] - 1s 0us/step\n"
     ]
    }
   ],
   "source": [
    "from tensorflow.keras.datasets import fashion_mnist\n",
    "\n",
    "(X_train, y_train), (X_test, y_test) = fashion_mnist.load_data()"
   ]
  },
  {
   "cell_type": "code",
   "execution_count": 3,
   "metadata": {
    "colab": {
     "base_uri": "https://localhost:8080/"
    },
    "id": "fL3fvXjcuPPr",
    "outputId": "385500e5-5cab-4c47-b5e1-edc08249c91d"
   },
   "outputs": [
    {
     "name": "stdout",
     "output_type": "stream",
     "text": [
      "There are 60000 images in the training dataset\n",
      "There are 10000 images in the test dataset\n"
     ]
    }
   ],
   "source": [
    "print(f\"There are {len(X_train)} images in the training dataset\")\n",
    "print(f\"There are {len(X_test)} images in the test dataset\")"
   ]
  },
  {
   "cell_type": "code",
   "execution_count": 4,
   "metadata": {
    "colab": {
     "base_uri": "https://localhost:8080/"
    },
    "id": "lADlt3rN0bQL",
    "outputId": "aad03df1-7c85-4b9e-ba8b-630ba52db884"
   },
   "outputs": [
    {
     "name": "stdout",
     "output_type": "stream",
     "text": [
      "X_train shape (60000, 28, 28)\n",
      "y_train shape (60000,)\n",
      "X_test shape (10000, 28, 28)\n",
      "y_test shape (10000,)\n"
     ]
    }
   ],
   "source": [
    "print(\"X_train shape\", X_train.shape)\n",
    "print(\"y_train shape\", y_train.shape)\n",
    "print(\"X_test shape\", X_test.shape)\n",
    "print(\"y_test shape\", y_test.shape)"
   ]
  },
  {
   "cell_type": "code",
   "execution_count": 5,
   "metadata": {
    "colab": {
     "base_uri": "https://localhost:8080/"
    },
    "id": "QsxkLX_euPPs",
    "outputId": "7aca090d-3fb4-4a81-c70c-e5a87e436994"
   },
   "outputs": [
    {
     "data": {
      "text/plain": [
       "(28, 28)"
      ]
     },
     "execution_count": 5,
     "metadata": {},
     "output_type": "execute_result"
    }
   ],
   "source": [
    "X_train[1].shape"
   ]
  },
  {
   "cell_type": "code",
   "execution_count": 6,
   "metadata": {
    "colab": {
     "base_uri": "https://localhost:8080/"
    },
    "id": "zuAG0718jZCf",
    "outputId": "cfd0b2c8-28ac-4863-8180-7941d97ca314"
   },
   "outputs": [
    {
     "data": {
      "text/plain": [
       "0"
      ]
     },
     "execution_count": 6,
     "metadata": {},
     "output_type": "execute_result"
    }
   ],
   "source": [
    "X_train[5].min()"
   ]
  },
  {
   "cell_type": "code",
   "execution_count": 7,
   "metadata": {
    "colab": {
     "base_uri": "https://localhost:8080/"
    },
    "id": "OZTYB1ncjaLl",
    "outputId": "7f1e27b8-561c-4980-b94c-b16d88429736"
   },
   "outputs": [
    {
     "data": {
      "text/plain": [
       "255"
      ]
     },
     "execution_count": 7,
     "metadata": {},
     "output_type": "execute_result"
    }
   ],
   "source": [
    "X_train[5].max()"
   ]
  },
  {
   "cell_type": "markdown",
   "metadata": {
    "id": "xcbhlvVUuPPs"
   },
   "source": [
    "**TASK 2: Use matplotlib to view an image from the data set. It can be any image from the data set.**"
   ]
  },
  {
   "cell_type": "code",
   "execution_count": 8,
   "metadata": {
    "id": "6oz7wh_ruPPt"
   },
   "outputs": [],
   "source": [
    "classes=[\"T-shirt/top\", \"Trouser\",\"Pullover\",\"Dress\",\"Coat\",\"Sandal\",\"Shirt\",\"Sneaker\",\"Bag\",\"Ankle boot\"]"
   ]
  },
  {
   "cell_type": "code",
   "execution_count": 9,
   "metadata": {
    "colab": {
     "base_uri": "https://localhost:8080/",
     "height": 522
    },
    "id": "Yo2r7hijuPPu",
    "outputId": "2c5abe55-484c-4fc5-bff5-7f3bb2889175"
   },
   "outputs": [
    {
     "data": {
      "image/png": "[encoded data removed]",
      "text/plain": [
       "<Figure size 432x288 with 1 Axes>"
      ]
     },
     "metadata": {
      "needs_background": "light"
     },
     "output_type": "display_data"
    }
   ],
   "source": [
    "plt.imshow(X_train[1])\n",
    "plt.show()\n"
   ]
  },
  {
   "cell_type": "code",
   "execution_count": 10,
   "metadata": {
    "colab": {
     "base_uri": "https://localhost:8080/",
     "height": 522
    },
    "id": "o_R4-ZZ_HdP4",
    "outputId": "83b0fec0-d4b1-468f-91d1-b9c090eaee06"
   },
   "outputs": [
    {
     "data": {
      "image/png": "[encoded data removed]",
      "text/plain": [
       "<Figure size 432x288 with 1 Axes>"
      ]
     },
     "metadata": {
      "needs_background": "light"
     },
     "output_type": "display_data"
    }
   ],
   "source": [
    "plt.imshow(X_train[2])\n",
    "plt.show()"
   ]
  },
  {
   "cell_type": "code",
   "execution_count": 11,
   "metadata": {
    "colab": {
     "base_uri": "https://localhost:8080/",
     "height": 826
    },
    "id": "PgQAPGtKuPPv",
    "outputId": "53bcc229-99c7-46e5-b524-51ddf8f11796"
   },
   "outputs": [
    {
     "data": {
      "image/png": "[encoded data removed]",
      "text/plain": [
       "<Figure size 720x720 with 25 Axes>"
      ]
     },
     "metadata": {},
     "output_type": "display_data"
    }
   ],
   "source": [
    "plt.figure(figsize=(10, 10))\n",
    "\n",
    "# Display a grid of 25 images\n",
    "for i in range(25):\n",
    "    plt.subplot(5, 5, i + 1)\n",
    "    plt.xticks([])\n",
    "    plt.yticks([])\n",
    "    plt.grid(False)\n",
    "    plt.imshow(X_train[i], cmap='gray')\n",
    "    label = classes[y_train[i]]\n",
    "    plt.xlabel(label)\n",
    "\n",
    "plt.show()"
   ]
  },
  {
   "cell_type": "markdown",
   "metadata": {
    "id": "r1GkkclSuPPw"
   },
   "source": [
    "# Data Preprocessing\n",
    "\n",
    "**TASK 3: Normalize the X train and X test data by dividing by the max value of the image arrays.**"
   ]
  },
  {
   "cell_type": "code",
   "execution_count": 12,
   "metadata": {
    "id": "E9-s8RWGuPPx"
   },
   "outputs": [],
   "source": [
    "# Normlizing X_train and X_test by dividing by 255, values will be between 0 and 1\n",
    "# X_train, X_test = X_train / 255.0, X_test / 255.0\n",
    "\n",
    "X_train = X_train.astype(\"float32\")\n",
    "X_test = X_test.astype(\"float32\")\n",
    "X_train /= 255\n",
    "X_test /= 255"
   ]
  },
  {
   "cell_type": "code",
   "execution_count": 13,
   "metadata": {
    "colab": {
     "base_uri": "https://localhost:8080/"
    },
    "id": "hR-LMTzGuPPx",
    "outputId": "80a73004-0f2a-498c-f03d-955a1ac5f29b"
   },
   "outputs": [
    {
     "data": {
      "text/plain": [
       "1.0"
      ]
     },
     "execution_count": 13,
     "metadata": {},
     "output_type": "execute_result"
    }
   ],
   "source": [
    "X_train.max()"
   ]
  },
  {
   "cell_type": "code",
   "execution_count": 14,
   "metadata": {
    "colab": {
     "base_uri": "https://localhost:8080/",
     "height": 522
    },
    "id": "fdOW7l5zuPPy",
    "outputId": "092f8c11-4c79-4f76-be40-ba3766fb1e80"
   },
   "outputs": [
    {
     "data": {
      "image/png": "[encoded data removed]",
      "text/plain": [
       "<Figure size 432x288 with 1 Axes>"
      ]
     },
     "metadata": {
      "needs_background": "light"
     },
     "output_type": "display_data"
    }
   ],
   "source": [
    "plt.imshow(X_train[1])\n",
    "plt.show()"
   ]
  },
  {
   "cell_type": "markdown",
   "metadata": {
    "id": "KPoTqz8tuPPy"
   },
   "source": [
    "**Task 4: Reshape the X arrays to include a 4 dimension of the single channel. Similar to what we did for the numbers MNIST data set.**"
   ]
  },
  {
   "cell_type": "code",
   "execution_count": 15,
   "metadata": {
    "id": "emOqhcFIuPPz"
   },
   "outputs": [],
   "source": [
    "X_train = X_train.reshape(-1, 28, 28, 1)\n",
    "X_test = X_test.reshape(-1, 28, 28, 1)"
   ]
  },
  {
   "cell_type": "code",
   "execution_count": 16,
   "metadata": {
    "colab": {
     "base_uri": "https://localhost:8080/"
    },
    "id": "3ao9AfLOuPPz",
    "outputId": "1949a535-445a-48e3-8da5-87bc54082fc9"
   },
   "outputs": [
    {
     "data": {
      "text/plain": [
       "(28, 28, 1)"
      ]
     },
     "execution_count": 16,
     "metadata": {},
     "output_type": "execute_result"
    }
   ],
   "source": [
    "X_train[1].shape"
   ]
  },
  {
   "cell_type": "code",
   "execution_count": 17,
   "metadata": {
    "id": "SZPIgzWIuPP0"
   },
   "outputs": [],
   "source": [
    "#X_train = np.expand_dims(X_train, 4) # 4 is the number of dimensions that we want\n",
    "#X_test = np.expand_dims(X_test, 4)"
   ]
  },
  {
   "cell_type": "code",
   "execution_count": 18,
   "metadata": {
    "colab": {
     "base_uri": "https://localhost:8080/"
    },
    "id": "P3Acdhik8C5r",
    "outputId": "7e1ca067-76d6-4998-bfe4-1256bc702379"
   },
   "outputs": [
    {
     "name": "stdout",
     "output_type": "stream",
     "text": [
      "(60000, 28, 28, 1)\n",
      "(10000, 28, 28, 1)\n"
     ]
    }
   ],
   "source": [
    "print(X_train.shape)\n",
    "print(X_test.shape)"
   ]
  },
  {
   "cell_type": "markdown",
   "metadata": {
    "id": "-3WQfhrluPP0"
   },
   "source": [
    "**TASK 5: Convert the y_train and y_test values to be one-hot encoded for categorical analysis by Keras.**"
   ]
  },
  {
   "cell_type": "code",
   "execution_count": 19,
   "metadata": {
    "id": "yfE42jW7uPP0"
   },
   "outputs": [],
   "source": [
    "num_classes = 10  # Number of classes (for Fashion MNIST)\n",
    "\n",
    "y_train_onehot = to_categorical(y_train, num_classes)\n",
    "y_test_onehot = to_categorical(y_test, num_classes)"
   ]
  },
  {
   "cell_type": "code",
   "execution_count": 20,
   "metadata": {
    "colab": {
     "base_uri": "https://localhost:8080/"
    },
    "id": "Wfu7A0WNuPP1",
    "outputId": "eb7c2126-fb75-4825-c563-3bf053634b8e"
   },
   "outputs": [
    {
     "data": {
      "text/plain": [
       "(60000, 10)"
      ]
     },
     "execution_count": 20,
     "metadata": {},
     "output_type": "execute_result"
    }
   ],
   "source": [
    "y_train_onehot.shape"
   ]
  },
  {
   "cell_type": "code",
   "execution_count": 21,
   "metadata": {
    "colab": {
     "base_uri": "https://localhost:8080/"
    },
    "id": "fcObuDiEuPP1",
    "outputId": "77706729-d620-4d96-8fba-ca2a96469c04"
   },
   "outputs": [
    {
     "data": {
      "text/plain": [
       "(10000, 10)"
      ]
     },
     "execution_count": 21,
     "metadata": {},
     "output_type": "execute_result"
    }
   ],
   "source": [
    "y_test_onehot.shape"
   ]
  },
  {
   "cell_type": "code",
   "execution_count": 22,
   "metadata": {
    "colab": {
     "base_uri": "https://localhost:8080/"
    },
    "id": "JcpmWNRNB7Om",
    "outputId": "5ec8b4d8-b020-42fa-8f8e-ca66348b6aa2"
   },
   "outputs": [
    {
     "data": {
      "text/plain": [
       "2"
      ]
     },
     "execution_count": 22,
     "metadata": {},
     "output_type": "execute_result"
    }
   ],
   "source": [
    "y_train[5]"
   ]
  },
  {
   "cell_type": "code",
   "execution_count": 23,
   "metadata": {
    "colab": {
     "base_uri": "https://localhost:8080/"
    },
    "id": "tLcpDDfTuPP2",
    "outputId": "1cb24547-f588-43d7-b2dc-3a568958bc5b"
   },
   "outputs": [
    {
     "data": {
      "text/plain": [
       "array([0., 0., 1., 0., 0., 0., 0., 0., 0., 0.], dtype=float32)"
      ]
     },
     "execution_count": 23,
     "metadata": {},
     "output_type": "execute_result"
    }
   ],
   "source": [
    "y_train_onehot[5]"
   ]
  },
  {
   "cell_type": "markdown",
   "metadata": {
    "id": "-oPRZTbxuPP2"
   },
   "source": [
    "# Modeling"
   ]
  },
  {
   "cell_type": "markdown",
   "metadata": {
    "id": "-7mquq68uPP3"
   },
   "source": [
    "## Create the model\n",
    "\n",
    "**TASK 5: Use Keras to create a model consisting of at least the following layers (but feel free to experiment):**\n",
    "\n",
    "* 2D Convolutional Layer, filters=28 and kernel_size=(3,3)\n",
    "* Pooling Layer where pool_size = (2,2) strides=(1,1)\n",
    "\n",
    "* Flatten Layer\n",
    "* Dense Layer (128 Neurons, but feel free to play around with this value), RELU activation\n",
    "\n",
    "* Final Dense Layer of 10 Neurons with a softmax activation\n",
    "\n",
    "**Then compile the model with these parameters: loss='categorical_crossentropy', optimizer='rmsprop', metrics=['accuracy']**"
   ]
  },
  {
   "cell_type": "code",
   "execution_count": 24,
   "metadata": {
    "id": "k6udF-O4uPP4"
   },
   "outputs": [],
   "source": [
    "model = Sequential()\n",
    "\n",
    "model.add(Conv2D(filters=28, kernel_size=(3, 3), input_shape=(28, 28, 1), activation=\"relu\"))\n",
    "model.add(MaxPool2D(pool_size=(2, 2), strides=(1, 1)))  # padding = valid, pooling_size= (2,2), by default if we not specify the stride it will be the same size of pooling, so we had to specify strides=(1,1)\n",
    "\n",
    "model.add(Flatten())\n",
    "\n",
    "model.add(Dense(128, activation=\"relu\"))\n",
    "\n",
    "model.add(Dense(10, activation=\"softmax\"))\n",
    "\n",
    "model.compile(loss=\"categorical_crossentropy\", optimizer=\"rmsprop\", metrics=[\"accuracy\"])"
   ]
  },
  {
   "cell_type": "code",
   "execution_count": 25,
   "metadata": {
    "colab": {
     "base_uri": "https://localhost:8080/"
    },
    "id": "ft4VeVh9GziZ",
    "outputId": "7d9b39f4-d257-4a33-b0e9-888337262bfb"
   },
   "outputs": [
    {
     "name": "stdout",
     "output_type": "stream",
     "text": [
      "Model: \"sequential\"\n",
      "_________________________________________________________________\n",
      " Layer (type)                Output Shape              Param #   \n",
      "=================================================================\n",
      " conv2d (Conv2D)             (None, 26, 26, 28)        280       \n",
      "                                                                 \n",
      " max_pooling2d (MaxPooling2D  (None, 25, 25, 28)       0         \n",
      " )                                                               \n",
      "                                                                 \n",
      " flatten (Flatten)           (None, 17500)             0         \n",
      "                                                                 \n",
      " dense (Dense)               (None, 128)               2240128   \n",
      "                                                                 \n",
      " dense_1 (Dense)             (None, 10)                1290      \n",
      "                                                                 \n",
      "=================================================================\n",
      "Total params: 2,241,698\n",
      "Trainable params: 2,241,698\n",
      "Non-trainable params: 0\n",
      "_________________________________________________________________\n"
     ]
    }
   ],
   "source": [
    "model.summary()"
   ]
  },
  {
   "cell_type": "markdown",
   "metadata": {
    "id": "aL94LWKBuPP4"
   },
   "source": [
    "##  Model Training\n",
    "\n",
    "**TASK 6: Train/Fit the model to the x_train set by using EarlyStop. Amount of epochs is up to you.**"
   ]
  },
  {
   "cell_type": "code",
   "execution_count": 26,
   "metadata": {
    "id": "BmKVSt5kuPP5"
   },
   "outputs": [],
   "source": [
    "early_stop= EarlyStopping(monitor='val_accuracy',\n",
    "                          patience=5,\n",
    "                          mode='max',\n",
    "                          restore_best_weights=True) # We are using accuracy as metric for this model, and we are aiming to maximize accuracy"
   ]
  },
  {
   "cell_type": "code",
   "execution_count": 27,
   "metadata": {
    "colab": {
     "base_uri": "https://localhost:8080/"
    },
    "id": "crCuEQNguPP6",
    "outputId": "bfb4245c-a002-4458-c076-17a09d8f7125"
   },
   "outputs": [
    {
     "name": "stdout",
     "output_type": "stream",
     "text": [
      "Epoch 1/20\n",
      "1875/1875 [==============================] - 79s 41ms/step - loss: 0.3672 - accuracy: 0.8705 - val_loss: 0.3089 - val_accuracy: 0.8891\n",
      "Epoch 2/20\n",
      "1875/1875 [==============================] - 77s 41ms/step - loss: 0.2490 - accuracy: 0.9130 - val_loss: 0.2761 - val_accuracy: 0.9025\n",
      "Epoch 3/20\n",
      "1875/1875 [==============================] - 78s 42ms/step - loss: 0.2107 - accuracy: 0.9262 - val_loss: 0.3095 - val_accuracy: 0.8911\n",
      "Epoch 4/20\n",
      "1875/1875 [==============================] - 79s 42ms/step - loss: 0.1861 - accuracy: 0.9348 - val_loss: 0.3239 - val_accuracy: 0.8949\n",
      "Epoch 5/20\n",
      "1875/1875 [==============================] - 76s 40ms/step - loss: 0.1658 - accuracy: 0.9414 - val_loss: 0.2897 - val_accuracy: 0.9071\n",
      "Epoch 6/20\n",
      "1875/1875 [==============================] - 82s 44ms/step - loss: 0.1526 - accuracy: 0.9465 - val_loss: 0.3122 - val_accuracy: 0.9096\n",
      "Epoch 7/20\n",
      "1875/1875 [==============================] - 83s 44ms/step - loss: 0.1416 - accuracy: 0.9511 - val_loss: 0.3017 - val_accuracy: 0.9095\n",
      "Epoch 8/20\n",
      "1875/1875 [==============================] - 562s 300ms/step - loss: 0.1309 - accuracy: 0.9548 - val_loss: 0.3575 - val_accuracy: 0.9052\n",
      "Epoch 9/20\n",
      "1875/1875 [==============================] - 76s 40ms/step - loss: 0.1207 - accuracy: 0.9583 - val_loss: 0.3502 - val_accuracy: 0.9072\n",
      "Epoch 10/20\n",
      "1875/1875 [==============================] - 80s 43ms/step - loss: 0.1129 - accuracy: 0.9607 - val_loss: 0.4033 - val_accuracy: 0.9050\n",
      "Epoch 11/20\n",
      "1875/1875 [==============================] - 82s 44ms/step - loss: 0.1008 - accuracy: 0.9651 - val_loss: 0.3727 - val_accuracy: 0.9073\n"
     ]
    },
    {
     "data": {
      "text/plain": [
       "<keras.callbacks.History at 0x2bfffb08640>"
      ]
     },
     "execution_count": 27,
     "metadata": {},
     "output_type": "execute_result"
    }
   ],
   "source": [
    "model.fit(X_train, y_train_onehot, epochs=20, validation_data=(X_test, y_test_onehot), batch_size= 32, callbacks=[early_stop])"
   ]
  },
  {
   "cell_type": "markdown",
   "metadata": {
    "id": "zyS7cBiWuPP6"
   },
   "source": [
    "**TASK 7: Plot values of metrics you used in your model.**"
   ]
  },
  {
   "cell_type": "code",
   "execution_count": 28,
   "metadata": {
    "colab": {
     "base_uri": "https://localhost:8080/"
    },
    "id": "ePEbb4e1uPP7",
    "outputId": "8a8602fe-709e-4b1d-d054-befdd49bc0d9"
   },
   "outputs": [
    {
     "data": {
      "text/plain": [
       "['loss', 'accuracy']"
      ]
     },
     "execution_count": 28,
     "metadata": {},
     "output_type": "execute_result"
    }
   ],
   "source": [
    "model.metrics_names"
   ]
  },
  {
   "cell_type": "code",
   "execution_count": 29,
   "metadata": {
    "colab": {
     "base_uri": "https://localhost:8080/",
     "height": 206
    },
    "id": "OMNfZTvruPP7",
    "outputId": "99b74cfa-3e8b-4dcf-c024-3ff6a6e250dc"
   },
   "outputs": [
    {
     "data": {
      "text/html": [
       "<div>\n",
       "<style scoped>\n",
       "    .dataframe tbody tr th:only-of-type {\n",
       "        vertical-align: middle;\n",
       "    }\n",
       "\n",
       "    .dataframe tbody tr th {\n",
       "        vertical-align: top;\n",
       "    }\n",
       "\n",
       "    .dataframe thead th {\n",
       "        text-align: right;\n",
       "    }\n",
       "</style>\n",
       "<table border=\"1\" class=\"dataframe\">\n",
       "  <thead>\n",
       "    <tr style=\"text-align: right;\">\n",
       "      <th></th>\n",
       "      <th>loss</th>\n",
       "      <th>accuracy</th>\n",
       "      <th>val_loss</th>\n",
       "      <th>val_accuracy</th>\n",
       "    </tr>\n",
       "  </thead>\n",
       "  <tbody>\n",
       "    <tr>\n",
       "      <th>0</th>\n",
       "      <td>0.367</td>\n",
       "      <td>0.871</td>\n",
       "      <td>0.309</td>\n",
       "      <td>0.889</td>\n",
       "    </tr>\n",
       "    <tr>\n",
       "      <th>1</th>\n",
       "      <td>0.249</td>\n",
       "      <td>0.913</td>\n",
       "      <td>0.276</td>\n",
       "      <td>0.902</td>\n",
       "    </tr>\n",
       "    <tr>\n",
       "      <th>2</th>\n",
       "      <td>0.211</td>\n",
       "      <td>0.926</td>\n",
       "      <td>0.309</td>\n",
       "      <td>0.891</td>\n",
       "    </tr>\n",
       "    <tr>\n",
       "      <th>3</th>\n",
       "      <td>0.186</td>\n",
       "      <td>0.935</td>\n",
       "      <td>0.324</td>\n",
       "      <td>0.895</td>\n",
       "    </tr>\n",
       "    <tr>\n",
       "      <th>4</th>\n",
       "      <td>0.166</td>\n",
       "      <td>0.941</td>\n",
       "      <td>0.290</td>\n",
       "      <td>0.907</td>\n",
       "    </tr>\n",
       "  </tbody>\n",
       "</table>\n",
       "</div>"
      ],
      "text/plain": [
       "   loss  accuracy  val_loss  val_accuracy\n",
       "0 0.367     0.871     0.309         0.889\n",
       "1 0.249     0.913     0.276         0.902\n",
       "2 0.211     0.926     0.309         0.891\n",
       "3 0.186     0.935     0.324         0.895\n",
       "4 0.166     0.941     0.290         0.907"
      ]
     },
     "execution_count": 29,
     "metadata": {},
     "output_type": "execute_result"
    }
   ],
   "source": [
    "summary = pd.DataFrame(model.history.history)\n",
    "summary.head()"
   ]
  },
  {
   "cell_type": "code",
   "execution_count": 30,
   "metadata": {
    "colab": {
     "base_uri": "https://localhost:8080/",
     "height": 539
    },
    "id": "tsRB0KoPP47P",
    "outputId": "6b55ac32-6b8b-47b0-d44a-b64dbcbb3e41"
   },
   "outputs": [
    {
     "data": {
      "text/plain": [
       "<Axes: >"
      ]
     },
     "execution_count": 30,
     "metadata": {},
     "output_type": "execute_result"
    },
    {
     "data": {
      "image/png": "[encoded data removed]",
      "text/plain": [
       "<Figure size 432x288 with 1 Axes>"
      ]
     },
     "metadata": {
      "needs_background": "light"
     },
     "output_type": "display_data"
    }
   ],
   "source": [
    "summary.plot()"
   ]
  },
  {
   "cell_type": "markdown",
   "metadata": {
    "id": "KiojfO9nQ_Od"
   },
   "source": [
    "Looking at the graph, we notice that the val score is low and decreasing, which means our model is doing good on the training dataset. But when looking at the val_loss score which represents the how well the model is performing on data it has not seen during training the validation data, we see it is increasing. This indicates there is an overfitting situation.\n",
    "\n",
    "The accuracy and val_accuracy have close scores."
   ]
  },
  {
   "cell_type": "code",
   "execution_count": 31,
   "metadata": {
    "id": "z7XwyzT4TbDR"
   },
   "outputs": [
    {
     "data": {
      "image/png": "[encoded data removed]",
      "text/plain": [
       "<Figure size 432x288 with 1 Axes>"
      ]
     },
     "metadata": {
      "needs_background": "light"
     },
     "output_type": "display_data"
    }
   ],
   "source": [
    "summary[[\"loss\", \"val_loss\"]].plot();"
   ]
  },
  {
   "cell_type": "code",
   "execution_count": 32,
   "metadata": {
    "id": "Mdwuq1OaTdLP"
   },
   "outputs": [
    {
     "data": {
      "image/png": "[encoded data removed]",
      "text/plain": [
       "<Figure size 432x288 with 1 Axes>"
      ]
     },
     "metadata": {
      "needs_background": "light"
     },
     "output_type": "display_data"
    }
   ],
   "source": [
    "summary[[\"accuracy\", \"val_accuracy\"]].plot();"
   ]
  },
  {
   "cell_type": "markdown",
   "metadata": {
    "id": "gokU2sIFuPP8"
   },
   "source": [
    "## Model Evaluation\n",
    "\n",
    "**TASK 8: Show the accuracy,precision,recall,f1-score the model achieved on the x_test data set. Keep in mind, there are quite a few ways to do this, but we recommend following the same procedure we showed in the MNIST lecture.**"
   ]
  },
  {
   "cell_type": "code",
   "execution_count": 33,
   "metadata": {
    "id": "TkF5l5D3uPP8"
   },
   "outputs": [],
   "source": [
    "# From the MINST notebooke\n",
    "from sklearn.metrics import (\n",
    "    classification_report,\n",
    "    confusion_matrix,\n",
    "    multilabel_confusion_matrix,\n",
    ")"
   ]
  },
  {
   "cell_type": "code",
   "execution_count": 34,
   "metadata": {
    "id": "Qii5lOmAuPQc"
   },
   "outputs": [
    {
     "name": "stdout",
     "output_type": "stream",
     "text": [
      "313/313 [==============================] - 2s 7ms/step - loss: 0.3122 - accuracy: 0.9096\n"
     ]
    },
    {
     "data": {
      "text/plain": [
       "[0.31219926476478577, 0.909600019454956]"
      ]
     },
     "execution_count": 34,
     "metadata": {},
     "output_type": "execute_result"
    }
   ],
   "source": [
    "model.evaluate(X_test, y_test_onehot)"
   ]
  },
  {
   "cell_type": "code",
   "execution_count": 35,
   "metadata": {
    "colab": {
     "base_uri": "https://localhost:8080/"
    },
    "id": "gVs2nq13uPQc",
    "outputId": "4a737c01-8b42-48ef-8938-373282b6cbbe"
   },
   "outputs": [
    {
     "name": "stdout",
     "output_type": "stream",
     "text": [
      "Test loss: 0.31219926476478577\n",
      "Test accuracy: 0.909600019454956\n"
     ]
    }
   ],
   "source": [
    "score = model.evaluate(X_test, y_test_onehot, verbose=0)\n",
    "print(\"Test loss:\", score[0])\n",
    "print(\"Test accuracy:\", score[1])"
   ]
  },
  {
   "cell_type": "markdown",
   "metadata": {
    "id": "AsAsE6ZzU1K4"
   },
   "source": [
    "Loss is 0.3121 which indicates that the model's predictions are close to the true labels on average. Accuracy score is 91, which is very good, means that the model correctly classified about 90% of the test samples."
   ]
  },
  {
   "cell_type": "code",
   "execution_count": 36,
   "metadata": {
    "colab": {
     "base_uri": "https://localhost:8080/"
    },
    "id": "j5TOBtRhuPQd",
    "outputId": "37d1bc7b-8211-4b97-c85c-41bfb81afa1d"
   },
   "outputs": [
    {
     "name": "stdout",
     "output_type": "stream",
     "text": [
      "313/313 [==============================] - 2s 6ms/step\n"
     ]
    },
    {
     "data": {
      "text/plain": [
       "array([[3.46284423e-09, 9.79059126e-16, 2.82572354e-10, ...,\n",
       "        8.63418245e-06, 8.44652259e-09, 9.99989331e-01],\n",
       "       [1.04392779e-10, 1.94467718e-23, 9.99999940e-01, ...,\n",
       "        6.05589052e-14, 1.65006762e-15, 3.46589793e-18],\n",
       "       [6.78022308e-13, 9.99999940e-01, 7.67542214e-18, ...,\n",
       "        6.40105776e-17, 1.43016919e-13, 4.03367719e-18],\n",
       "       ...,\n",
       "       [2.69271503e-13, 9.13145694e-26, 7.63503918e-17, ...,\n",
       "        9.24552344e-16, 9.99999940e-01, 1.53696238e-18],\n",
       "       [8.33704037e-15, 9.99999940e-01, 3.91775734e-17, ...,\n",
       "        2.17205089e-17, 1.09103535e-16, 7.09395980e-15],\n",
       "       [5.43131027e-04, 4.15346591e-07, 4.37582028e-04, ...,\n",
       "        3.05540133e-02, 7.47038168e-04, 1.29220786e-03]], dtype=float32)"
      ]
     },
     "execution_count": 36,
     "metadata": {},
     "output_type": "execute_result"
    }
   ],
   "source": [
    "predicted_probabilities = model.predict(X_test)\n",
    "predicted_probabilities"
   ]
  },
  {
   "cell_type": "code",
   "execution_count": 37,
   "metadata": {
    "id": "RuBAnPtDXEzI"
   },
   "outputs": [
    {
     "name": "stdout",
     "output_type": "stream",
     "text": [
      "Confusion Matrix:\n",
      "[[835   0   8   7   7   2 135   0   6   0]\n",
      " [  3 975   0  12   3   0   6   0   1   0]\n",
      " [ 16   0 831   6  78   2  66   0   1   0]\n",
      " [ 18   5   7 879  49   0  40   0   2   0]\n",
      " [  1   0  34   9 917   1  37   0   1   0]\n",
      " [  0   0   0   0   0 987   0   2   0  11]\n",
      " [ 73   0  45  17  86   0 772   0   7   0]\n",
      " [  0   0   0   0   0  17   0 953   0  30]\n",
      " [  1   1   1   1   2   3   7   4 980   0]\n",
      " [  1   0   0   0   0   7   0  25   0 967]]\n",
      "\n",
      "Classification Report:\n",
      "              precision    recall  f1-score   support\n",
      "\n",
      "           0       0.88      0.83      0.86      1000\n",
      "           1       0.99      0.97      0.98      1000\n",
      "           2       0.90      0.83      0.86      1000\n",
      "           3       0.94      0.88      0.91      1000\n",
      "           4       0.80      0.92      0.86      1000\n",
      "           5       0.97      0.99      0.98      1000\n",
      "           6       0.73      0.77      0.75      1000\n",
      "           7       0.97      0.95      0.96      1000\n",
      "           8       0.98      0.98      0.98      1000\n",
      "           9       0.96      0.97      0.96      1000\n",
      "\n",
      "    accuracy                           0.91     10000\n",
      "   macro avg       0.91      0.91      0.91     10000\n",
      "weighted avg       0.91      0.91      0.91     10000\n",
      "\n"
     ]
    }
   ],
   "source": [
    "# determinig predicted class labels\n",
    "y_pred = np.argmax(predicted_probabilities, axis=1)\n",
    "\n",
    "\n",
    "confusion_mtx = confusion_matrix(np.argmax(y_test_onehot, axis=1), y_pred)\n",
    "\n",
    "report = classification_report(np.argmax(y_test_onehot, axis=1), y_pred)\n",
    "\n",
    "print(\"Confusion Matrix:\")\n",
    "print(confusion_mtx)\n",
    "print(\"\\nClassification Report:\")\n",
    "print(report)"
   ]
  },
  {
   "cell_type": "markdown",
   "metadata": {
    "id": "sQsHTwIXmttD"
   },
   "source": [
    "Our model is doing good for all classes, except class 6. It has a lower score compared to the other classes"
   ]
  },
  {
   "cell_type": "code",
   "execution_count": 38,
   "metadata": {
    "id": "FegGupTvmdMu"
   },
   "outputs": [
    {
     "data": {
      "image/png": "[encoded data removed]",
      "text/plain": [
       "<Figure size 720x576 with 2 Axes>"
      ]
     },
     "metadata": {
      "needs_background": "light"
     },
     "output_type": "display_data"
    }
   ],
   "source": [
    "confusion_df = pd.DataFrame(confusion_mtx, index=classes, columns=classes)\n",
    "\n",
    "# Plot the confusion matrix using seaborn\n",
    "plt.figure(figsize=(10, 8))\n",
    "sns.heatmap(confusion_df, annot=True, fmt='d', cmap='Blues')\n",
    "plt.xlabel('Predicted')\n",
    "plt.ylabel('Actual')\n",
    "plt.title('Confusion Matrix')\n",
    "plt.show()"
   ]
  },
  {
   "cell_type": "markdown",
   "metadata": {
    "id": "ArRWXWtwuPQe"
   },
   "source": [
    "## Prediction"
   ]
  },
  {
   "cell_type": "code",
   "execution_count": 39,
   "metadata": {
    "colab": {
     "base_uri": "https://localhost:8080/"
    },
    "id": "QHN40I3nOJIU",
    "outputId": "47b1a0af-3451-4248-d262-27157c6dc797"
   },
   "outputs": [
    {
     "name": "stdout",
     "output_type": "stream",
     "text": [
      "313/313 [==============================] - 2s 6ms/step\n",
      "Predicted labels: [9, 2, 1, 1, 6, 1, 4, 6, 5, 7, 4, 5, 5, 3, 4, 1, 2, 6, 8, 0, 2, 5, 7, 5, 1, 4, 6, 6, 9, 3, 8, 8, 3, 3, 8, 0, 7, 5, 7, 9, 0, 1, 6, 7, 6, 7, 2, 1, 2, 2, 4, 4, 5, 8, 2, 2, 8, 4, 8, 0, 7, 7, 8, 5, 1, 1, 2, 4, 7, 8, 7, 0, 2, 6, 4, 3, 1, 2, 8, 4, 1, 8, 5, 9, 5, 0, 3, 2, 0, 2, 5, 3, 6, 7, 1, 8, 0, 1, 4, 2, 3, 6, 7, 6, 7, 8, 5, 9, 9, 4, 2, 5, 7, 0, 5, 2, 8, 4, 7, 8, 0, 0, 9, 9, 3, 0, 8, 4, 1, 5, 4, 1, 9, 1, 8, 6, 2, 1, 2, 5, 1, 0, 0, 0, 1, 6, 1, 3, 2, 2, 3, 4, 1, 4, 5, 2, 4, 7, 9, 3, 7, 2, 3, 9, 0, 9, 4, 7, 4, 2, 0, 5, 2, 1, 2, 1, 3, 0, 9, 1, 0, 9, 3, 6, 7, 9, 9, 4, 4, 7, 1, 2, 1, 6, 3, 2, 8, 3, 6, 1, 1, 0, 2, 9, 2, 4, 0, 7, 9, 8, 4, 1, 8, 4, 1, 3, 1, 6, 7, 2, 8, 5, 2, 0, 7, 7, 6, 2, 7, 0, 7, 8, 9, 2, 9, 0, 5, 1, 4, 2, 5, 6, 9, 2, 2, 8, 6, 4, 2, 2, 9, 7, 6, 5, 5, 2, 8, 5, 2, 3, 0, 4, 8, 0, 0, 6, 4, 8, 9, 6, 1, 6, 0, 2, 3, 0, 8, 3, 7, 4, 0, 1, 6, 3, 0, 4, 6, 7, 5, 4, 5, 9, 5, 6, 5, 5, 1, 9, 8, 8, 3, 3, 6, 8, 0, 0, 2, 9, 7, 7, 1, 3, 6, 4, 2, 4, 7, 1, 6, 4, 8, 2, 6, 5, 6, 2, 7, 7, 7, 3, 3, 7, 4, 7, 1, 3, 7, 2, 2, 3, 4, 0, 3, 1, 6, 1, 9, 4, 9, 9, 1, 7, 8, 3, 6, 0, 2, 4, 8, 0, 1, 2, 2, 4, 4, 7, 3, 2, 2, 5, 0, 7, 9, 4, 6, 9, 3, 9, 6, 2, 5, 6, 0, 3, 5, 8, 1, 6, 2, 6, 6, 4, 9, 5, 2, 6, 4, 6, 1, 2, 0, 9, 7, 0, 4, 4, 4, 6, 2, 1, 6, 6, 7, 0, 9, 4, 2, 1, 5, 4, 5, 3, 8, 5, 8, 4, 4, 8, 9, 8, 6, 2, 4, 4, 2, 4, 1, 6, 1, 3, 0, 7, 8, 8, 4, 5, 3, 1, 9, 5, 3, 3, 6, 1, 6, 2, 9, 4, 0, 4, 0, 4, 2, 0, 0, 3, 3, 8, 2, 8, 9, 4, 0, 7, 6, 4, 6, 9, 2, 9, 5, 9, 3, 7, 5, 7, 8, 1, 0, 0, 3, 6, 8, 9, 7, 9, 1, 2, 7, 0, 2, 0, 5, 7, 1, 8, 2, 2, 2, 2, 6, 2, 6, 1, 9, 8, 5, 1, 9, 1, 2, 8, 3, 8, 9, 2, 4, 2, 8, 0, 2, 0, 5, 8, 8, 5, 0, 9, 4, 3, 4, 4, 5, 1, 0, 1, 2, 0, 6, 9, 6, 1, 5, 1, 1, 1, 9, 3, 4, 5, 3, 6, 6, 6, 4, 6, 0, 5, 8, 3, 6, 4, 6, 7, 7, 8, 9, 6, 6, 8, 7, 6, 7, 9, 3, 4, 6, 6, 5, 0, 1, 1, 5, 9, 4, 6, 5, 7, 8, 1, 2, 9, 7, 7, 1, 0, 9, 6, 2, 9, 0, 7, 6, 8, 2, 7, 0, 2, 3, 8, 2, 2, 6, 7, 3, 0, 7, 8, 6, 2, 9, 4, 2, 6, 6, 8, 0, 4, 4, 2, 7, 5, 8, 4, 9, 1, 0, 5, 4, 4, 4, 0, 0, 4, 5, 6, 0, 4, 5, 4, 1, 0, 1, 1, 4, 4, 3, 8, 2, 8, 6, 5, 0, 4, 0, 8, 5, 0, 8, 2, 9, 6, 8, 9, 6, 4, 2, 9, 6, 4, 5, 0, 9, 5, 3, 6, 6, 8, 3, 3, 8, 1, 5, 0, 9, 7, 9, 4, 8, 9, 1, 3, 7, 0, 0, 2, 4, 7, 1, 0, 0, 8, 5, 2, 6, 6, 6, 4, 1, 5, 9, 0, 0, 1, 6, 5, 6, 0, 3, 3, 3, 8, 1, 1, 8, 5, 7, 7, 8, 7, 2, 0, 7, 0, 8, 0, 9, 7, 6, 1, 6, 6, 4, 8, 0, 6, 3, 6, 8, 4, 0, 8, 9, 2, 4, 5, 9, 1, 4, 4, 9, 2, 1, 7, 9, 5, 8, 3, 7, 7, 1, 1, 1, 6, 9, 5, 3, 8, 4, 2, 9, 4, 8, 3, 2, 4, 4, 7, 1, 4, 9, 3, 5, 8, 5, 4, 7, 4, 8, 5, 9, 3, 3, 6, 7, 1, 7, 0, 5, 4, 4, 5, 8, 3, 7, 1, 2, 6, 1, 9, 8, 2, 7, 1, 3, 7, 5, 9, 9, 1, 8, 6, 5, 7, 1, 9, 8, 1, 0, 0, 6, 1, 7, 1, 1, 5, 7, 1, 5, 2, 2, 3, 3, 1, 1, 4, 9, 2, 3, 7, 7, 6, 8, 9, 9, 6, 1, 3, 4, 0, 0, 5, 9, 4, 0, 5, 5, 1, 5, 7, 8, 7, 9, 3, 6, 2, 0, 4, 0, 2, 0, 2, 5, 5, 1, 2, 0, 9, 3, 7, 8, 4, 8, 3, 4, 7, 0, 7, 4, 8, 6, 3, 4, 4, 3, 6, 9, 6, 2, 4, 9, 1, 8, 1, 7, 5, 5, 6, 0, 2, 1, 0, 5, 4, 0, 0, 2, 7, 5, 0, 2, 5, 9, 4, 8, 6, 6, 4, 6, 2, 9, 6, 7, 7, 1, 4, 4, 0, 5, 0, 9, 9, 8, 8, 3, 6, 2, 4, 6, 6, 3, 2, 3, 5, 4, 9, 3, 4, 7, 7, 6, 3, 5, 5, 6, 6, 5, 9, 6, 3, 7, 5, 1, 9, 8, 8, 9, 9, 2, 7, 2, 2, 3, 8, 7, 4, 4, 5, 4, 1, 6, 1, 4, 9, 3, 1, 6, 5, 0, 5, 7, 5, 2, 3, 3, 9, 6, 3, 6, 0, 4, 5, 0, 4, 9, 4, 6, 3, 6, 7, 0, 2, 1, 1, 4, 4, 6, 5, 9, 0, 1, 6, 5, 1, 4, 4, 8, 4, 7, 7, 3, 8, 1, 1, 9, 8, 1, 3, 3, 7, 5, 1, 5, 7, 8, 9, 6, 3, 5, 8, 4, 4, 3, 8, 6, 5, 5, 6, 7, 1, 5, 3, 5, 4, 8, 0, 2, 1, 1, 7, 9, 6, 2, 7, 0, 4, 8, 2, 2, 6, 6, 4, 4, 9, 6, 8, 4, 5, 9, 6, 3, 9, 4, 9, 8, 7, 4, 2, 2, 5, 3, 7, 6, 7, 2, 9, 3, 7, 6, 9, 4, 8, 4, 4, 7, 2, 4, 6, 2, 0, 7, 8, 4, 2, 4, 5, 5, 6, 4, 5, 5, 8, 1, 1, 7, 4, 6, 9, 6, 8, 7, 2, 6, 1, 4, 7, 7, 4, 9, 8, 5, 1, 1, 0, 2, 0, 9, 0, 1, 9, 6, 5, 5, 2, 0, 7, 0, 2, 3, 1, 3, 1, 3, 4, 9, 2, 4, 9, 5, 2, 9, 6, 3, 4, 4, 6, 6, 5, 2, 2, 5, 6, 1, 4, 2, 5, 4, 4, 8, 0, 2, 4, 0, 6, 6, 6, 8, 3, 8, 2, 0, 4, 4, 8, 8, 4, 5, 2, 2, 3, 0, 1, 9, 0, 9, 1, 9, 6, 5, 2, 4, 7, 3, 8, 5, 6, 8, 0, 7, 5, 5, 9, 5, 0, 6, 0, 3, 4, 4, 4, 5, 7, 1, 3, 4, 6, 6, 5, 1, 6, 7, 3, 4, 8, 8, 4, 8, 9, 4, 1, 6, 5, 2, 7, 8, 5, 6, 8, 5, 2, 2, 8, 9, 8, 4, 4, 6, 8, 8, 2, 0, 9, 4, 4, 8, 1, 3, 6, 1, 9, 2, 1, 6, 2, 7, 9, 4, 6, 0, 4, 4, 2, 4, 5, 0, 2, 8, 3, 7, 6, 4, 0, 0, 5, 4, 8, 2, 4, 3, 0, 2, 1, 7, 7, 5, 4, 7, 2, 6, 7, 3, 3, 1, 3, 3, 6, 6, 1, 7, 0, 4, 7, 1, 0, 6, 5, 8, 4, 6, 7, 9, 5, 0, 7, 9, 5, 1, 2, 9, 5, 5, 3, 9, 9, 1, 6, 7, 8, 0, 1, 7, 2, 7, 1, 1, 5, 5, 6, 4, 5, 9, 5, 5, 2, 3, 9, 3, 8, 5, 4, 0, 0, 0, 5, 7, 4, 5, 2, 6, 4, 4, 7, 6, 0, 5, 1, 7, 2, 3, 6, 8, 7, 8, 7, 1, 2, 3, 2, 9, 7, 5, 6, 3, 0, 7, 1, 2, 4, 9, 3, 6, 4, 4, 3, 0, 0, 2, 3, 6, 1, 3, 5, 4, 5, 0, 9, 1, 1, 8, 0, 9, 5, 0, 5, 4, 6, 7, 1, 1, 5, 3, 8, 7, 8, 3, 8, 9, 6, 6, 1, 1, 3, 5, 6, 7, 1, 9, 9, 2, 2, 7, 0, 1, 3, 9, 6, 3, 7, 2, 8, 1, 8, 0, 7, 9, 8, 5, 8, 2, 6, 4, 0, 6, 5, 8, 3, 8, 7, 5, 7, 3, 7, 6, 7, 0, 2, 2, 5, 3, 5, 1, 1, 7, 7, 6, 3, 6, 4, 2, 8, 6, 3, 1, 4, 9, 9, 2, 5, 2, 2, 7, 8, 0, 7, 9, 1, 2, 9, 4, 7, 3, 4, 3, 3, 1, 8, 8, 5, 3, 8, 0, 3, 4, 3, 6, 0, 4, 7, 3, 6, 8, 3, 7, 7, 3, 1, 7, 5, 8, 8, 2, 0, 6, 4, 4, 6, 5, 7, 0, 6, 0, 7, 7, 3, 9, 2, 5, 9, 7, 1, 7, 2, 4, 5, 1, 4, 5, 4, 5, 0, 4, 4, 1, 4, 4, 8, 4, 5, 9, 4, 1, 1, 5, 2, 3, 5, 6, 3, 9, 7, 5, 3, 8, 8, 8, 9, 1, 1, 6, 4, 1, 6, 3, 4, 9, 9, 6, 0, 6, 9, 4, 9, 0, 6, 1, 8, 9, 2, 9, 4, 8, 0, 7, 2, 3, 6, 2, 5, 6, 1, 9, 6, 2, 2, 9, 9, 6, 8, 3, 6, 6, 6, 0, 4, 2, 6, 6, 5, 0, 2, 7, 8, 7, 4, 6, 6, 6, 5, 2, 4, 2, 9, 5, 6, 6, 7, 0, 1, 9, 5, 5, 0, 7, 7, 5, 0, 5, 0, 8, 4, 7, 9, 8, 2, 4, 7, 3, 3, 7, 7, 7, 8, 4, 9, 5, 7, 6, 5, 7, 5, 1, 3, 0, 4, 9, 9, 8, 3, 7, 6, 4, 4, 9, 3, 4, 1, 9, 9, 1, 5, 7, 2, 5, 6, 5, 5, 3, 7, 5, 5, 4, 0, 7, 3, 3, 2, 6, 2, 9, 9, 0, 3, 0, 8, 3, 8, 8, 4, 4, 1, 8, 2, 3, 5, 0, 4, 4, 3, 0, 0, 1, 0, 8, 4, 9, 0, 7, 0, 7, 7, 1, 5, 8, 7, 2, 9, 9, 1, 6, 4, 1, 1, 1, 8, 8, 1, 3, 7, 5, 2, 0, 8, 4, 8, 9, 4, 1, 3, 1, 9, 8, 1, 1, 1, 8, 6, 9, 9, 7, 6, 0, 4, 2, 1, 1, 7, 9, 6, 2, 0, 3, 6, 6, 8, 1, 7, 2, 4, 2, 2, 4, 8, 7, 1, 8, 5, 5, 7, 7, 6, 6, 2, 9, 0, 6, 3, 5, 5, 0, 6, 1, 0, 3, 5, 7, 1, 7, 4, 5, 7, 9, 8, 9, 1, 4, 8, 3, 2, 6, 6, 0, 8, 3, 8, 6, 8, 6, 0, 8, 8, 2, 2, 9, 3, 2, 0, 8, 5, 7, 0, 1, 1, 1, 9, 5, 1, 3, 3, 6, 0, 8, 4, 1, 3, 8, 8, 0, 7, 5, 6, 6, 7, 3, 3, 2, 4, 6, 5, 5, 4, 2, 3, 9, 1, 1, 7, 3, 8, 7, 2, 2, 9, 3, 9, 9, 0, 1, 7, 1, 4, 8, 1, 6, 9, 3, 4, 0, 0, 7, 6, 9, 9, 5, 5, 7, 0, 9, 3, 3, 6, 9, 8, 4, 2, 6, 3, 9, 4, 3, 4, 7, 4, 0, 4, 8, 1, 8, 7, 4, 4, 5, 2, 2, 9, 1, 9, 4, 9, 1, 6, 2, 8, 8, 7, 7, 7, 7, 2, 6, 0, 7, 5, 8, 5, 6, 0, 6, 4, 9, 2, 4, 3, 1, 9, 3, 1, 2, 2, 2, 3, 7, 5, 7, 4, 4, 4, 1, 2, 3, 5, 4, 2, 9, 1, 5, 9, 3, 6, 6, 4, 0, 1, 7, 7, 6, 6, 7, 7, 3, 0, 4, 3, 2, 7, 8, 7, 2, 8, 0, 8, 7, 4, 8, 2, 7, 0, 9, 9, 3, 1, 5, 9, 3, 1, 0, 3, 3, 5, 9, 7, 9, 8, 3, 5, 9, 3, 7, 9, 3, 6, 6, 6, 5, 7, 7, 2, 4, 5, 3, 1, 1, 9, 4, 3, 9, 5, 5, 7, 2, 4, 9, 0, 2, 1, 9, 7, 1, 5, 0, 5, 5, 0, 3, 5, 6, 3, 3, 7, 4, 2, 6, 8, 5, 9, 2, 1, 0, 5, 5, 8, 5, 3, 7, 4, 4, 6, 9, 6, 0, 0, 9, 1, 4, 3, 1, 5, 3, 8, 5, 1, 1, 2, 9, 4, 0, 5, 2, 8, 0, 2, 9, 8, 4, 4, 8, 3, 8, 0, 4, 5, 0, 4, 8, 5, 4, 9, 0, 9, 5, 8, 6, 9, 1, 2, 7, 2, 1, 6, 6, 0, 6, 5, 0, 4, 8, 5, 5, 2, 0, 6, 8, 4, 6, 1, 9, 2, 9, 7, 2, 6, 2, 8, 3, 4, 8, 5, 2, 8, 3, 3, 1, 4, 4, 0, 4, 9, 0, 4, 1, 9, 9, 8, 1, 5, 8, 3, 3, 3, 8, 5, 9, 6, 2, 8, 7, 0, 3, 0, 0, 0, 5, 7, 5, 0, 7, 9, 1, 6, 4, 8, 9, 3, 5, 6, 0, 4, 6, 7, 8, 9, 1, 8, 2, 5, 5, 3, 1, 1, 8, 8, 3, 0, 7, 0, 1, 8, 6, 0, 4, 9, 8, 9, 8, 8, 6, 9, 1, 8, 4, 2, 7, 7, 0, 5, 1, 1, 0, 6, 4, 3, 0, 4, 3, 5, 1, 4, 3, 3, 4, 4, 5, 6, 9, 8, 3, 4, 1, 0, 2, 1, 4, 4, 4, 8, 4, 9, 0, 9, 9, 5, 0, 0, 0, 5, 0, 6, 9, 7, 3, 6, 1, 9, 4, 1, 0, 4, 5, 4, 1, 4, 8, 5, 9, 4, 5, 3, 6, 8, 1, 0, 6, 8, 9, 0, 5, 6, 2, 8, 9, 3, 6, 6, 8, 5, 9, 2, 3, 1, 6, 3, 6, 2, 7, 6, 1, 2, 6, 4, 0, 2, 8, 5, 0, 8, 5, 2, 7, 8, 1, 5, 9, 8, 6, 9, 0, 9, 3, 9, 5, 7, 9, 6, 6, 7, 1, 5, 5, 9, 5, 4, 4, 2, 4, 5, 9, 7, 4, 2, 6, 9, 9, 3, 2, 1, 3, 7, 1, 8, 7, 9, 1, 8, 9, 3, 7, 7, 7, 1, 7, 4, 4, 6, 2, 4, 5, 2, 8, 9, 6, 8, 0, 0, 7, 7, 5, 0, 1, 9, 6, 6, 4, 9, 6, 6, 6, 7, 1, 0, 5, 8, 7, 2, 8, 6, 3, 6, 1, 7, 4, 8, 7, 4, 1, 7, 8, 6, 4, 4, 4, 4, 1, 8, 6, 7, 2, 9, 4, 5, 2, 6, 3, 8, 8, 2, 0, 7, 2, 4, 0, 4, 1, 6, 8, 1, 7, 7, 2, 6, 3, 1, 2, 7, 0, 6, 0, 6, 2, 7, 2, 8, 3, 2, 3, 0, 9, 7, 3, 5, 4, 9, 6, 4, 5, 0, 6, 8, 4, 0, 4, 4, 0, 6, 1, 6, 6, 3, 7, 1, 3, 6, 4, 1, 1, 5, 6, 6, 8, 3, 4, 1, 7, 4, 9, 8, 8, 4, 5, 5, 6, 7, 3, 9, 1, 6, 5, 3, 7, 0, 1, 1, 8, 6, 2, 0, 5, 9, 6, 3, 8, 1, 0, 4, 6, 6, 4, 8, 3, 4, 2, 1, 9, 0, 7, 9, 5, 7, 6, 1, 5, 8, 8, 2, 6, 4, 6, 3, 1, 6, 4, 0, 3, 9, 8, 4, 6, 8, 4, 3, 9, 7, 1, 1, 9, 5, 1, 9, 4, 4, 2, 3, 8, 6, 7, 1, 3, 0, 7, 3, 5, 8, 1, 4, 2, 3, 4, 8, 8, 8, 4, 8, 1, 8, 9, 3, 0, 6, 0, 2, 9, 7, 3, 7, 0, 1, 4, 5, 9, 6, 0, 5, 0, 5, 8, 7, 3, 6, 2, 8, 0, 0, 9, 3, 0, 5, 8, 1, 1, 2, 6, 0, 6, 8, 8, 6, 3, 3, 9, 5, 4, 3, 3, 1, 8, 1, 5, 2, 0, 0, 7, 9, 3, 2, 7, 1, 7, 4, 1, 6, 2, 6, 6, 7, 0, 4, 9, 3, 2, 5, 0, 8, 6, 2, 6, 7, 6, 2, 1, 1, 0, 3, 5, 5, 2, 6, 6, 1, 8, 0, 4, 4, 4, 4, 2, 9, 6, 1, 9, 6, 2, 6, 8, 4, 5, 4, 9, 8, 1, 6, 4, 6, 4, 9, 4, 3, 5, 1, 2, 6, 0, 1, 1, 0, 2, 6, 9, 9, 0, 1, 2, 4, 6, 7, 2, 1, 1, 7, 7, 8, 7, 6, 5, 3, 7, 2, 0, 9, 6, 1, 6, 2, 6, 5, 8, 5, 2, 9, 8, 4, 0, 9, 0, 8, 1, 3, 8, 2, 8, 2, 0, 0, 3, 8, 7, 8, 2, 2, 0, 6, 0, 4, 5, 4, 4, 1, 1, 9, 7, 0, 4, 2, 1, 4, 2, 7, 5, 1, 8, 6, 3, 7, 9, 8, 7, 2, 7, 9, 7, 2, 2, 6, 6, 3, 3, 9, 1, 1, 4, 8, 0, 9, 7, 5, 2, 8, 8, 3, 6, 3, 0, 8, 2, 4, 5, 9, 2, 3, 8, 6, 2, 8, 3, 0, 8, 1, 3, 0, 1, 8, 2, 1, 5, 8, 1, 5, 8, 0, 7, 8, 7, 5, 9, 5, 5, 3, 6, 7, 8, 4, 5, 1, 6, 4, 6, 4, 3, 7, 7, 9, 7, 2, 5, 8, 5, 8, 5, 3, 0, 9, 7, 2, 0, 6, 8, 4, 0, 7, 3, 7, 6, 8, 4, 7, 0, 0, 4, 0, 4, 7, 8, 1, 3, 8, 1, 7, 3, 6, 1, 1, 6, 6, 9, 8, 4, 8, 2, 7, 7, 1, 3, 0, 3, 0, 7, 8, 7, 6, 5, 2, 6, 7, 5, 5, 8, 9, 7, 3, 2, 4, 8, 3, 9, 5, 7, 6, 8, 2, 7, 3, 8, 5, 1, 8, 9, 2, 6, 1, 4, 2, 7, 4, 0, 4, 4, 8, 9, 7, 9, 2, 2, 8, 2, 6, 0, 6, 3, 4, 1, 5, 4, 7, 5, 0, 7, 2, 2, 0, 5, 1, 1, 0, 7, 3, 8, 8, 7, 5, 9, 9, 5, 5, 4, 0, 7, 1, 4, 6, 0, 9, 9, 6, 6, 8, 0, 5, 7, 8, 8, 2, 7, 6, 6, 4, 8, 1, 0, 4, 8, 0, 7, 5, 8, 7, 7, 5, 5, 0, 7, 6, 4, 2, 0, 3, 4, 2, 0, 3, 9, 4, 5, 2, 4, 1, 2, 5, 7, 0, 5, 0, 2, 5, 0, 4, 6, 0, 6, 7, 2, 7, 2, 3, 4, 7, 1, 2, 3, 4, 2, 4, 3, 9, 9, 2, 8, 0, 4, 0, 0, 1, 9, 3, 9, 0, 8, 4, 9, 4, 7, 9, 1, 5, 8, 1, 0, 6, 2, 4, 8, 6, 3, 3, 0, 0, 0, 3, 3, 1, 6, 8, 4, 7, 3, 0, 6, 5, 8, 8, 8, 6, 1, 0, 8, 9, 8, 5, 8, 7, 0, 7, 2, 7, 1, 5, 5, 8, 3, 2, 8, 5, 9, 9, 4, 0, 6, 7, 1, 8, 8, 8, 7, 2, 0, 9, 7, 9, 6, 9, 4, 1, 4, 7, 2, 5, 2, 6, 2, 9, 0, 7, 1, 9, 7, 6, 5, 3, 8, 4, 9, 3, 9, 5, 7, 5, 1, 3, 3, 4, 6, 7, 5, 3, 5, 5, 8, 7, 7, 4, 6, 5, 5, 0, 4, 8, 3, 0, 9, 2, 6, 2, 2, 9, 4, 6, 5, 1, 4, 8, 1, 4, 7, 8, 4, 6, 7, 2, 0, 2, 2, 3, 2, 3, 0, 5, 2, 4, 2, 8, 5, 0, 8, 4, 6, 4, 8, 3, 5, 1, 6, 9, 1, 4, 9, 6, 7, 4, 6, 6, 2, 9, 0, 3, 5, 6, 5, 1, 7, 9, 4, 6, 7, 4, 0, 2, 8, 1, 0, 9, 9, 7, 8, 4, 6, 9, 7, 7, 5, 8, 8, 7, 5, 3, 5, 5, 6, 8, 9, 7, 2, 1, 4, 7, 1, 3, 4, 3, 4, 2, 9, 4, 7, 7, 6, 5, 0, 8, 8, 6, 8, 5, 6, 0, 7, 3, 0, 0, 4, 5, 2, 0, 7, 7, 7, 1, 5, 2, 1, 8, 5, 2, 4, 8, 7, 7, 6, 7, 1, 0, 9, 5, 3, 9, 3, 5, 0, 7, 4, 6, 0, 1, 2, 5, 9, 3, 2, 8, 5, 7, 3, 1, 2, 0, 8, 1, 8, 5, 6, 9, 0, 3, 8, 6, 4, 2, 0, 0, 4, 2, 3, 4, 5, 9, 1, 1, 9, 4, 7, 0, 4, 1, 0, 0, 7, 7, 0, 7, 8, 0, 5, 6, 4, 4, 8, 9, 7, 4, 9, 5, 3, 9, 2, 4, 1, 9, 7, 8, 1, 3, 9, 3, 6, 7, 8, 6, 5, 6, 7, 9, 9, 7, 0, 4, 2, 4, 4, 0, 9, 5, 3, 9, 2, 8, 8, 0, 0, 4, 1, 9, 3, 3, 5, 3, 5, 5, 9, 2, 8, 5, 5, 9, 5, 4, 6, 7, 3, 5, 4, 2, 0, 9, 4, 8, 1, 9, 2, 6, 2, 4, 8, 8, 7, 7, 3, 9, 3, 9, 6, 8, 2, 6, 9, 0, 4, 2, 5, 5, 0, 4, 6, 4, 1, 3, 1, 8, 7, 8, 8, 7, 7, 0, 5, 7, 3, 6, 0, 4, 0, 3, 6, 8, 8, 8, 6, 2, 3, 2, 8, 8, 1, 4, 1, 1, 6, 3, 2, 2, 8, 0, 0, 4, 1, 0, 2, 7, 0, 6, 7, 9, 9, 6, 7, 6, 9, 9, 8, 4, 8, 3, 4, 0, 9, 4, 2, 4, 3, 8, 3, 6, 6, 9, 6, 2, 7, 3, 7, 8, 8, 2, 4, 8, 8, 0, 1, 5, 8, 9, 8, 7, 1, 6, 3, 3, 3, 0, 9, 3, 9, 9, 1, 5, 9, 4, 1, 7, 0, 1, 0, 5, 3, 8, 8, 4, 1, 7, 0, 5, 0, 4, 1, 7, 1, 7, 9, 4, 3, 9, 2, 2, 5, 3, 5, 8, 8, 4, 4, 7, 7, 4, 6, 0, 5, 5, 3, 6, 2, 5, 4, 8, 5, 6, 9, 1, 3, 1, 4, 5, 9, 0, 9, 0, 3, 5, 6, 1, 5, 8, 5, 6, 6, 9, 1, 9, 1, 7, 1, 8, 0, 3, 4, 0, 4, 8, 3, 3, 8, 8, 0, 3, 6, 8, 1, 1, 3, 3, 4, 2, 1, 8, 3, 2, 6, 4, 4, 2, 3, 9, 2, 3, 0, 4, 5, 7, 1, 6, 1, 6, 0, 3, 8, 9, 1, 4, 5, 4, 8, 1, 7, 1, 6, 4, 9, 4, 4, 1, 5, 3, 3, 5, 8, 7, 7, 7, 2, 7, 5, 4, 2, 2, 0, 4, 8, 9, 9, 5, 8, 0, 4, 4, 1, 3, 7, 5, 0, 0, 9, 8, 5, 3, 0, 7, 1, 9, 7, 8, 4, 0, 9, 9, 1, 2, 0, 6, 2, 4, 5, 1, 0, 4, 8, 3, 4, 8, 6, 4, 0, 0, 3, 6, 7, 2, 4, 1, 5, 3, 0, 7, 9, 9, 1, 5, 5, 9, 1, 4, 6, 1, 2, 8, 8, 5, 9, 8, 0, 4, 2, 7, 2, 9, 5, 6, 8, 7, 8, 8, 4, 9, 2, 5, 5, 9, 9, 4, 4, 2, 6, 6, 6, 8, 7, 6, 6, 7, 5, 2, 9, 6, 3, 4, 4, 8, 4, 0, 4, 9, 0, 5, 6, 6, 4, 8, 0, 6, 2, 0, 2, 5, 5, 8, 0, 7, 0, 8, 9, 0, 2, 1, 2, 5, 1, 6, 2, 9, 6, 4, 9, 9, 1, 4, 3, 1, 6, 8, 6, 3, 0, 6, 2, 0, 2, 3, 6, 5, 2, 3, 6, 6, 8, 5, 4, 0, 1, 0, 2, 2, 6, 7, 9, 6, 2, 3, 3, 6, 8, 5, 4, 4, 0, 3, 3, 5, 2, 5, 1, 5, 5, 1, 7, 5, 2, 3, 8, 8, 0, 9, 6, 0, 6, 3, 6, 1, 8, 3, 4, 2, 1, 2, 0, 3, 6, 8, 5, 1, 5, 0, 2, 6, 3, 9, 8, 2, 8, 1, 0, 2, 6, 2, 6, 3, 7, 5, 0, 6, 2, 6, 8, 2, 2, 1, 8, 6, 8, 2, 9, 2, 6, 8, 5, 2, 7, 3, 2, 2, 6, 0, 6, 8, 5, 2, 1, 5, 2, 8, 2, 9, 0, 6, 3, 6, 4, 6, 7, 7, 9, 6, 2, 9, 8, 0, 5, 8, 7, 7, 0, 7, 7, 0, 7, 7, 2, 9, 7, 4, 2, 2, 3, 8, 0, 1, 9, 8, 0, 6, 6, 8, 3, 8, 0, 7, 6, 3, 3, 8, 1, 3, 8, 7, 3, 0, 3, 2, 8, 8, 9, 1, 3, 2, 1, 4, 8, 0, 4, 6, 7, 3, 9, 4, 9, 0, 4, 6, 5, 7, 0, 8, 1, 7, 5, 4, 9, 5, 7, 3, 2, 0, 9, 8, 7, 3, 7, 7, 4, 7, 5, 8, 5, 2, 4, 0, 2, 3, 8, 9, 7, 1, 3, 4, 2, 9, 7, 1, 4, 2, 6, 6, 5, 5, 4, 5, 2, 8, 9, 4, 9, 9, 1, 4, 3, 1, 5, 5, 5, 6, 8, 1, 5, 5, 7, 5, 9, 8, 3, 1, 1, 4, 6, 6, 9, 3, 6, 4, 4, 8, 2, 5, 4, 9, 0, 2, 8, 4, 8, 6, 3, 6, 1, 4, 3, 3, 8, 4, 9, 9, 0, 7, 9, 5, 3, 1, 5, 2, 8, 4, 9, 6, 1, 6, 0, 5, 8, 1, 9, 3, 6, 8, 1, 8, 4, 2, 5, 6, 9, 6, 1, 4, 0, 7, 9, 0, 1, 3, 9, 5, 1, 4, 1, 1, 4, 8, 0, 9, 5, 4, 4, 3, 7, 7, 7, 0, 3, 9, 1, 9, 4, 4, 0, 7, 6, 8, 7, 9, 6, 4, 4, 9, 0, 4, 0, 2, 7, 9, 6, 1, 1, 2, 0, 8, 8, 7, 6, 2, 7, 5, 7, 6, 1, 8, 1, 4, 9, 8, 9, 0, 1, 0, 4, 0, 3, 0, 6, 4, 1, 9, 7, 1, 2, 4, 5, 3, 4, 1, 7, 6, 7, 0, 2, 8, 8, 1, 4, 9, 7, 6, 4, 4, 9, 3, 9, 8, 5, 3, 8, 4, 7, 1, 4, 1, 9, 6, 8, 3, 2, 4, 8, 1, 1, 5, 8, 6, 1, 6, 2, 5, 0, 9, 5, 3, 5, 6, 6, 5, 6, 8, 3, 8, 0, 6, 9, 9, 1, 5, 3, 2, 6, 5, 3, 0, 3, 0, 7, 4, 0, 2, 1, 9, 5, 1, 7, 5, 5, 5, 9, 4, 8, 4, 6, 6, 4, 6, 4, 1, 1, 2, 2, 8, 4, 9, 0, 5, 8, 1, 0, 8, 3, 2, 4, 8, 6, 0, 9, 3, 6, 9, 7, 2, 2, 2, 6, 8, 9, 6, 1, 4, 7, 7, 9, 7, 3, 4, 9, 2, 7, 3, 0, 2, 6, 9, 4, 3, 3, 1, 9, 5, 8, 2, 3, 5, 0, 0, 4, 5, 6, 3, 5, 4, 7, 7, 6, 0, 9, 5, 1, 4, 4, 5, 3, 0, 0, 1, 4, 0, 5, 4, 8, 5, 7, 3, 0, 8, 3, 5, 4, 4, 9, 8, 9, 9, 8, 1, 7, 5, 0, 1, 5, 4, 3, 3, 3, 4, 2, 3, 6, 7, 8, 0, 9, 6, 6, 0, 4, 2, 7, 4, 5, 7, 3, 7, 8, 4, 6, 6, 2, 3, 1, 0, 5, 5, 0, 6, 4, 1, 1, 4, 7, 2, 3, 5, 5, 0, 4, 4, 4, 8, 9, 9, 2, 0, 9, 8, 3, 5, 3, 1, 4, 5, 0, 1, 8, 5, 8, 4, 0, 7, 8, 9, 2, 4, 6, 3, 2, 2, 6, 7, 9, 1, 9, 7, 4, 5, 8, 3, 2, 4, 5, 6, 6, 5, 8, 6, 4, 2, 9, 4, 7, 8, 6, 0, 2, 7, 7, 5, 9, 7, 7, 3, 8, 7, 5, 9, 9, 8, 2, 1, 0, 8, 0, 2, 6, 7, 9, 2, 2, 5, 4, 3, 4, 1, 1, 9, 0, 5, 5, 4, 9, 8, 9, 0, 5, 4, 6, 0, 5, 7, 8, 4, 8, 8, 7, 4, 9, 4, 9, 6, 9, 7, 3, 9, 9, 3, 0, 0, 2, 8, 9, 9, 3, 0, 2, 4, 1, 0, 3, 8, 4, 8, 4, 4, 2, 3, 5, 7, 7, 8, 5, 6, 3, 2, 1, 8, 3, 8, 5, 4, 2, 3, 0, 8, 3, 3, 4, 9, 0, 9, 9, 0, 1, 8, 3, 6, 3, 8, 6, 8, 5, 1, 3, 0, 1, 9, 3, 5, 0, 4, 2, 3, 1, 5, 3, 2, 8, 5, 7, 8, 0, 1, 1, 0, 6, 2, 5, 9, 0, 7, 2, 3, 6, 4, 4, 3, 3, 9, 4, 9, 0, 8, 8, 5, 6, 2, 0, 1, 3, 9, 4, 2, 5, 0, 5, 3, 2, 5, 6, 0, 0, 0, 6, 9, 1, 3, 4, 3, 5, 5, 4, 6, 1, 4, 9, 7, 4, 4, 7, 5, 7, 1, 4, 8, 7, 9, 5, 7, 0, 2, 9, 2, 5, 0, 7, 8, 2, 5, 2, 9, 4, 3, 2, 5, 9, 2, 5, 7, 7, 3, 8, 3, 9, 6, 5, 3, 0, 7, 6, 9, 9, 1, 3, 6, 9, 3, 6, 2, 5, 3, 4, 9, 9, 1, 2, 2, 2, 4, 6, 8, 7, 9, 9, 4, 8, 8, 9, 0, 7, 6, 4, 3, 8, 6, 4, 2, 0, 1, 4, 6, 2, 1, 5, 4, 6, 6, 0, 3, 4, 5, 6, 8, 7, 6, 6, 3, 1, 8, 8, 8, 9, 9, 5, 5, 8, 2, 5, 4, 4, 2, 5, 6, 9, 2, 9, 1, 0, 4, 6, 6, 9, 8, 6, 4, 9, 1, 9, 4, 5, 3, 5, 4, 3, 4, 2, 1, 0, 2, 2, 3, 7, 8, 4, 5, 5, 9, 0, 4, 3, 4, 5, 5, 5, 7, 6, 1, 3, 3, 7, 0, 7, 7, 6, 8, 3, 5, 5, 8, 1, 9, 4, 0, 4, 2, 1, 6, 0, 1, 6, 5, 0, 8, 1, 1, 7, 5, 2, 5, 9, 0, 8, 3, 6, 4, 2, 7, 0, 7, 3, 3, 2, 3, 7, 1, 6, 2, 3, 3, 0, 6, 6, 4, 8, 7, 0, 3, 0, 4, 7, 3, 3, 6, 0, 2, 4, 4, 1, 8, 1, 9, 1, 2, 6, 4, 6, 5, 3, 3, 5, 3, 5, 8, 3, 9, 7, 3, 0, 6, 1, 0, 1, 0, 7, 7, 4, 8, 9, 6, 1, 5, 4, 9, 4, 7, 9, 9, 9, 0, 1, 0, 9, 9, 5, 1, 7, 2, 9, 3, 5, 6, 8, 1, 7, 4, 3, 8, 4, 7, 8, 8, 9, 8, 8, 4, 5, 6, 4, 5, 9, 0, 0, 5, 4, 7, 7, 4, 4, 7, 4, 5, 8, 3, 7, 2, 7, 3, 8, 8, 8, 7, 8, 6, 0, 5, 7, 9, 8, 5, 6, 0, 6, 2, 4, 2, 8, 9, 9, 1, 9, 5, 8, 4, 4, 8, 4, 8, 7, 4, 8, 3, 0, 7, 8, 8, 4, 9, 9, 5, 9, 2, 4, 9, 7, 5, 7, 4, 9, 9, 2, 3, 9, 5, 3, 5, 4, 1, 2, 9, 1, 4, 8, 5, 1, 7, 9, 0, 3, 3, 6, 9, 0, 4, 6, 0, 0, 2, 9, 7, 1, 9, 8, 5, 6, 8, 5, 9, 5, 2, 4, 6, 5, 2, 2, 5, 4, 2, 7, 1, 0, 6, 4, 6, 5, 6, 4, 6, 7, 5, 5, 1, 5, 2, 4, 4, 2, 4, 1, 9, 0, 7, 2, 7, 4, 2, 9, 7, 4, 4, 6, 1, 7, 1, 4, 7, 6, 1, 7, 3, 0, 3, 6, 2, 0, 0, 4, 1, 7, 9, 0, 2, 9, 2, 0, 7, 1, 9, 5, 2, 9, 8, 6, 4, 0, 3, 3, 2, 2, 8, 1, 6, 8, 1, 8, 1, 0, 1, 6, 7, 3, 7, 7, 3, 3, 9, 9, 0, 8, 2, 5, 8, 9, 5, 3, 5, 4, 1, 6, 9, 4, 4, 2, 6, 1, 8, 1, 3, 4, 0, 2, 1, 7, 0, 5, 4, 5, 3, 6, 4, 1, 0, 0, 7, 3, 6, 2, 3, 6, 4, 5, 2, 9, 6, 8, 0, 4, 4, 0, 1, 7, 5, 3, 3, 3, 2, 0, 3, 5, 2, 6, 2, 5, 1, 4, 2, 2, 1, 9, 3, 4, 6, 9, 5, 8, 0, 6, 3, 6, 0, 8, 1, 2, 3, 3, 1, 5, 5, 3, 2, 4, 7, 1, 3, 2, 3, 0, 6, 2, 2, 8, 6, 8, 4, 7, 0, 3, 1, 3, 8, 3, 4, 1, 2, 0, 3, 0, 7, 7, 8, 3, 6, 9, 5, 6, 6, 9, 5, 4, 3, 8, 5, 3, 8, 3, 7, 9, 0, 2, 5, 1, 0, 5, 6, 3, 9, 7, 9, 6, 0, 7, 1, 2, 0, 8, 0, 2, 2, 7, 8, 6, 4, 4, 6, 9, 7, 3, 2, 5, 4, 5, 1, 9, 5, 0, 5, 6, 4, 1, 7, 9, 0, 3, 3, 4, 9, 1, 0, 1, 9, 5, 6, 8, 2, 2, 1, 4, 0, 6, 7, 9, 0, 1, 1, 4, 1, 6, 9, 8, 1, 3, 7, 3, 9, 9, 5, 4, 2, 3, 2, 8, 8, 5, 5, 1, 8, 8, 5, 5, 9, 9, 3, 4, 4, 2, 7, 9, 6, 6, 7, 5, 4, 7, 6, 1, 4, 2, 2, 0, 9, 0, 6, 5, 1, 1, 7, 8, 3, 6, 6, 2, 0, 6, 4, 9, 5, 2, 4, 4, 4, 0, 1, 5, 2, 7, 8, 6, 7, 7, 0, 8, 4, 6, 6, 9, 1, 2, 1, 7, 4, 3, 4, 9, 9, 6, 4, 4, 3, 0, 5, 7, 5, 2, 7, 8, 9, 9, 2, 7, 8, 7, 7, 5, 8, 7, 6, 6, 9, 0, 1, 8, 7, 5, 4, 5, 3, 7, 4, 6, 5, 5, 6, 9, 9, 1, 9, 5, 9, 4, 4, 1, 5, 8, 3, 5, 1, 6, 6, 5, 0, 2, 3, 7, 1, 1, 1, 8, 7, 5, 6, 4, 4, 7, 0, 0, 5, 3, 4, 8, 6, 5, 2, 7, 3, 2, 3, 2, 7, 8, 0, 5, 6, 9, 5, 8, 0, 7, 3, 5, 0, 9, 7, 3, 0, 6, 5, 7, 8, 4, 3, 1, 9, 0, 2, 9, 1, 3, 4, 6, 4, 0, 6, 2, 4, 8, 6, 4, 9, 5, 6, 1, 8, 2, 4, 1, 6, 2, 9, 4, 3, 7, 9, 6, 3, 5, 2, 5, 9, 8, 5, 3, 0, 1, 2, 6, 4, 1, 9, 4, 4, 0, 5, 5, 4, 4, 2, 0, 1, 4, 9, 9, 7, 6, 1, 2, 6, 0, 2, 6, 2, 5, 9, 4, 8, 2, 6, 1, 5, 9, 4, 1, 8, 9, 3, 1, 7, 1, 1, 1, 9, 1, 3, 8, 9, 9, 1, 9, 6, 0, 5, 8, 5, 5, 9, 3, 8, 9, 0, 7, 8, 2, 9, 2, 0, 1, 5, 0, 7, 8, 6, 0, 9, 1, 1, 8, 2, 8, 7, 2, 0, 7, 2, 0, 0, 5, 1, 6, 8, 6, 3, 7, 2, 1, 9, 7, 6, 1, 3, 9, 2, 4, 0, 3, 7, 5, 1, 1, 9, 5, 1, 5, 4, 6, 6, 1, 5, 2, 1, 6, 2, 5, 9, 9, 4, 3, 4, 1, 7, 9, 0, 5, 7, 3, 3, 8, 4, 1, 8, 2, 5, 4, 4, 8, 9, 2, 9, 3, 2, 6, 1, 1, 6, 6, 1, 4, 9, 8, 5, 9, 1, 5, 6, 9, 3, 2, 1, 7, 4, 9, 8, 8, 9, 5, 5, 3, 8, 6, 0, 3, 6, 1, 1, 9, 0, 9, 7, 5, 3, 2, 9, 5, 5, 4, 6, 9, 9, 3, 0, 6, 4, 1, 7, 4, 9, 2, 8, 5, 8, 6, 0, 1, 3, 2, 2, 3, 6, 6, 0, 2, 8, 3, 2, 8, 6, 1, 8, 4, 5, 4, 2, 3, 9, 6, 4, 4, 2, 5, 4, 2, 7, 3, 7, 3, 3, 4, 9, 4, 8, 5, 6, 6, 3, 6, 7, 2, 5, 3, 1, 1, 9, 7, 5, 4, 2, 1, 6, 4, 5, 9, 2, 5, 5, 1, 3, 0, 9, 2, 2, 2, 3, 2, 4, 9, 2, 3, 6, 4, 2, 6, 4, 1, 3, 9, 2, 4, 2, 2, 3, 2, 3, 0, 8, 3, 5, 1, 2, 8, 8, 2, 1, 2, 1, 1, 9, 6, 5, 9, 6, 8, 0, 3, 2, 3, 6, 3, 7, 5, 6, 1, 1, 2, 0, 5, 5, 0, 1, 0, 5, 2, 8, 9, 7, 9, 1, 1, 3, 3, 5, 6, 7, 5, 9, 4, 9, 3, 6, 6, 2, 8, 5, 6, 5, 9, 8, 3, 8, 1, 3, 1, 4, 5, 6, 5, 4, 4, 9, 6, 7, 1, 4, 8, 3, 7, 7, 6, 7, 9, 4, 7, 7, 0, 1, 4, 1, 4, 8, 2, 4, 7, 4, 7, 1, 8, 7, 5, 1, 3, 1, 6, 3, 4, 5, 3, 8, 6, 3, 4, 9, 3, 1, 5, 3, 0, 7, 0, 6, 4, 5, 1, 6, 6, 3, 8, 5, 9, 8, 6, 7, 2, 4, 2, 5, 1, 9, 6, 3, 8, 7, 1, 8, 1, 2, 0, 9, 2, 4, 4, 4, 6, 1, 3, 5, 2, 9, 5, 5, 4, 7, 5, 5, 4, 4, 8, 0, 7, 0, 8, 4, 2, 1, 9, 7, 7, 3, 8, 0, 3, 0, 9, 8, 5, 6, 4, 8, 1, 5, 5, 7, 0, 1, 6, 1, 3, 4, 6, 2, 2, 1, 7, 6, 2, 2, 6, 1, 8, 2, 4, 6, 3, 0, 8, 8, 4, 4, 2, 0, 7, 0, 8, 9, 1, 2, 6, 7, 0, 8, 1, 8, 2, 4, 6, 7, 5, 7, 9, 9, 3, 9, 4, 4, 0, 4, 1, 4, 8, 4, 4, 7, 6, 2, 2, 9, 1, 8, 0, 6, 2, 6, 6, 3, 6, 6, 1, 3, 6, 3, 4, 1, 7, 8, 1, 0, 7, 6, 5, 0, 8, 2, 0, 5, 8, 7, 8, 4, 5, 9, 5, 5, 1, 2, 4, 7, 2, 9, 7, 8, 6, 7, 4, 6, 3, 8, 8, 4, 5, 1, 8, 6, 4, 2, 2, 9, 8, 9, 0, 2, 5, 9, 3, 5, 9, 8, 6, 3, 9, 5, 9, 3, 6, 8, 6, 0, 6, 3, 5, 8, 6, 6, 1, 8, 6, 9, 0, 0, 7, 6, 6, 8, 7, 6, 8, 8, 2, 0, 3, 6, 7, 1, 4, 7, 4, 0, 7, 1, 6, 5, 2, 0, 7, 9, 8, 0, 8, 2, 1, 1, 8, 8, 3, 5, 7, 5, 6, 9, 4, 3, 9, 3, 8, 9, 0, 4, 0, 4, 5, 7, 0, 4, 3, 9, 5, 7, 2, 0, 5, 8, 3, 1, 3, 5, 4, 9, 4, 3, 9, 7, 2, 0, 8, 0, 9, 1, 9, 9, 0, 7, 1, 4, 5, 0, 3, 8, 7, 4, 5, 5, 9, 3, 2, 0, 0, 9, 0, 5, 6, 1, 3, 7, 9, 1, 5, 9, 6, 0, 9, 7, 2, 9, 2, 1, 2, 7, 5, 1, 0, 7, 3, 4, 7, 6, 4, 6, 8, 5, 7, 9, 5, 7, 4, 6, 3, 9, 3, 6, 1, 5, 6, 9, 7, 4, 0, 2, 5, 8, 0, 7, 7, 3, 2, 0, 4, 8, 2, 0, 6, 9, 8, 9, 6, 5, 0, 4, 0, 2, 6, 3, 1, 8, 7, 4, 1, 9, 1, 2, 8, 5, 2, 3, 0, 0, 2, 6, 0, 7, 2, 1, 8, 2, 8, 7, 9, 4, 1, 3, 5, 7, 7, 3, 6, 5, 9, 3, 6, 7, 3, 2, 6, 9, 6, 7, 3, 9, 1, 2, 1, 9, 7, 2, 3, 3, 8, 1, 8, 3, 5, 0, 5, 3, 8, 5, 7, 4, 9, 0, 6, 8, 3, 2, 3, 3, 6, 3, 7, 8, 7, 1, 3, 7, 8, 9, 5, 5, 2, 2, 4, 5, 0, 8, 6, 3, 4, 0, 8, 8, 9, 6, 9, 1, 5, 1, 4, 1, 3, 2, 2, 2, 4, 5, 7, 5, 9, 2, 0, 5, 7, 0, 5, 6, 5, 6, 0, 4, 0, 7, 1, 5, 5, 9, 8, 1, 7, 6, 4, 4, 0, 7, 1, 8, 5, 7, 8, 5, 5, 1, 8, 5, 7, 7, 7, 6, 5, 2, 4, 1, 2, 4, 4, 1, 0, 6, 9, 1, 8, 2, 3, 7, 4, 9, 5, 9, 4, 3, 9, 5, 6, 6, 2, 7, 3, 9, 3, 0, 5, 9, 0, 9, 4, 6, 6, 5, 7, 1, 6, 5, 2, 0, 2, 3, 3, 1, 1, 7, 6, 2, 6, 5, 9, 8, 7, 7, 3, 4, 7, 9, 2, 0, 1, 1, 1, 4, 8, 0, 8, 0, 9, 5, 6, 7, 0, 8, 2, 4, 4, 2, 2, 2, 5, 7, 2, 9, 9, 2, 2, 2, 0, 7, 4, 5, 2, 3, 3, 1, 9, 8, 1, 8, 6, 2, 3, 9, 1, 9, 7, 2, 9, 6, 9, 3, 0, 4, 2, 3, 4, 6, 6, 9, 6, 1, 1, 0, 5, 6, 7, 0, 4, 1, 1, 7, 0, 0, 1, 9, 6, 7, 3, 5, 4, 1, 2, 0, 4, 6, 3, 0, 2, 3, 5, 9, 5, 8, 9, 3, 1, 7, 8, 9, 4, 1, 1, 9, 0, 7, 0, 0, 9, 6, 0, 2, 9, 2, 8, 5, 5, 9, 3, 3, 5, 7, 1, 3, 3, 3, 5, 6, 6, 4, 1, 1, 9, 1, 4, 0, 6, 2, 2, 6, 6, 0, 3, 5, 0, 3, 0, 5, 1, 1, 8, 2, 5, 3, 5, 1, 6, 4, 3, 1, 2, 7, 9, 6, 3, 8, 5, 4, 6, 9, 1, 5, 7, 7, 4, 2, 2, 7, 5, 4, 1, 5, 7, 7, 8, 2, 8, 3, 7, 4, 6, 2, 9, 9, 0, 0, 7, 3, 1, 0, 8, 2, 4, 4, 4, 7, 1, 8, 4, 0, 3, 4, 0, 3, 9, 8, 0, 0, 8, 3, 9, 2, 1, 5, 4, 5, 0, 8, 4, 2, 5, 9, 3, 0, 2, 7, 8, 5, 9, 5, 0, 0, 6, 9, 7, 2, 9, 2, 2, 6, 4, 0, 1, 4, 3, 9, 4, 0, 3, 4, 4, 6, 9, 4, 7, 2, 5, 4, 3, 4, 5, 7, 0, 2, 1, 1, 8, 7, 3, 2, 0, 5, 2, 3, 8, 8, 8, 9, 3, 6, 9, 6, 0, 3, 6, 4, 2, 8, 8, 5, 9, 2, 7, 1, 9, 0, 3, 3, 4, 2, 3, 9, 9, 5, 3, 0, 4, 2, 4, 6, 4, 5, 3, 4, 9, 8, 5, 8, 3, 4, 1, 4, 8, 9, 2, 6, 2, 3, 5, 6, 3, 5, 2, 5, 3, 9, 1, 2, 9, 8, 9, 6, 8, 8, 5, 5, 8, 4, 4, 0, 8, 3, 6, 4, 9, 6, 1, 0, 5, 1, 4, 0, 9, 2, 6, 3, 6, 7, 4, 6, 4, 3, 8, 5, 1, 8, 3, 4, 4, 5, 6, 0, 7, 8, 7, 4, 4, 2, 2, 9, 3, 5, 0, 9, 9, 0, 1, 3, 7, 1, 9, 6, 5, 2, 6, 9, 5, 7, 9, 4, 2, 8, 3, 1, 7, 8, 8, 6, 8, 0, 5, 5, 7, 1, 9, 6, 2, 1, 5, 1, 9, 6, 1, 6, 3, 2, 5, 3, 9, 3, 5, 4, 0, 6, 9, 9, 4, 2, 3, 8, 5, 8, 3, 6, 4, 1, 4, 9, 5, 8, 9, 5, 4, 6, 9, 5, 9, 1, 1, 1, 8, 4, 1, 4, 6, 9, 9, 8, 9, 7, 4, 6, 1, 9, 9, 1, 9, 3, 2, 3, 7, 3, 1, 3, 6, 8, 3, 4, 3, 3, 8, 3, 7, 1, 0, 3, 8, 4, 7, 9, 8, 0, 3, 0, 4, 5, 7, 6, 7, 3, 5, 0, 2, 3, 3, 3, 0, 6, 4, 4, 4, 4, 4, 9, 9, 6, 7, 4, 0, 2, 2, 1, 9, 5, 9, 9, 0, 5, 8, 6, 7, 3, 9, 5, 2, 8, 9, 5, 8, 0, 0, 4, 0, 6, 3, 7, 8, 0, 1, 2, 2, 6, 1, 1, 4, 2, 2, 5, 4, 3, 9, 3, 4, 2, 3, 7, 2, 9, 2, 1, 4, 7, 5, 5, 9, 2, 6, 9, 7, 9, 7, 4, 1, 8, 3, 3, 8, 0, 8, 9, 0, 7, 7, 9, 6, 3, 0, 3, 7, 4, 1, 5, 2, 0, 5, 8, 6, 7, 0, 1, 0, 5, 6, 2, 1, 4, 1, 8, 7, 9, 9, 7, 3, 2, 2, 4, 7, 4, 3, 9, 6, 3, 9, 5, 1, 0, 9, 2, 7, 4, 3, 5, 7, 2, 7, 2, 8, 7, 5, 4, 5, 9, 4, 3, 5, 0, 2, 5, 5, 3, 1, 9, 3, 7, 1, 0, 3, 4, 4, 2, 5, 9, 2, 1, 1, 7, 7, 9, 0, 1, 6, 8, 5, 2, 5, 3, 7, 8, 7, 7, 0, 8, 5, 6, 0, 5, 5, 6, 7, 7, 9, 7, 1, 0, 0, 8, 0, 4, 0, 6, 4, 5, 5, 0, 5, 3, 4, 4, 5, 0, 7, 1, 8, 7, 1, 2, 2, 0, 6, 7, 3, 7, 4, 8, 2, 3, 9, 4, 0, 3, 6, 8, 7, 3, 3, 6, 5, 0, 1, 5, 0, 9, 9, 1, 3, 0, 6, 1, 6, 6, 5, 7, 2, 4, 0, 9, 2, 6, 8, 2, 8, 3, 7, 7, 3, 3, 9, 5, 7, 0, 6, 9, 4, 5, 6, 7, 2, 9, 5, 5, 8, 7, 4, 9, 5, 6, 3, 6, 3, 6, 2, 7, 6, 4, 2, 5, 4, 1, 5, 7, 9, 7, 3, 9, 8, 0, 5, 1, 9, 6, 1, 6, 4, 8, 0, 7, 6, 9, 8, 8, 4, 4, 4, 1, 7, 7, 1, 1, 6, 7, 0, 3, 2, 8, 7, 8, 7, 9, 1, 1, 3, 8, 9, 5, 9, 1, 0, 0, 3, 4, 4, 4, 7, 1, 2, 0, 1, 5, 4, 4, 9, 2, 4, 2, 4, 6, 7, 7, 6, 7, 1, 4, 0, 8, 3, 3, 5, 4, 0, 8, 3, 0, 4, 0, 1, 8, 4, 0, 2, 7, 5, 2, 6, 5, 2, 1, 6, 4, 4, 5, 8, 0, 7, 3, 6, 6, 7, 6, 2, 3, 6, 0, 2, 6, 3, 4, 5, 1, 7, 5, 2, 5, 7, 9, 9, 9, 9, 2, 0, 9, 2, 0, 5, 5, 5, 0, 5, 6, 6, 6, 0, 6, 9, 9, 2, 4, 5, 4, 0, 1, 0, 8, 9, 5, 7, 3, 0, 2, 4, 1, 3, 8, 1, 8, 2, 6, 6, 9, 8, 5, 1, 2, 4, 0, 9, 0, 8, 8, 0, 7, 1, 6, 9, 8, 9, 9, 4, 9, 6, 3, 3, 4, 9, 0, 8, 0, 4, 0, 3, 0, 0, 0, 3, 3, 5, 9, 4, 7, 1, 5, 4, 1, 6, 1, 7, 9, 4, 3, 4, 5, 2, 9, 4, 9, 8, 8, 7, 6, 2, 3, 9, 3, 6, 7, 6, 4, 7, 0, 4, 1, 0, 5, 7, 0, 5, 9, 4, 3, 2, 8, 5, 8, 1, 9, 6, 7, 6, 7, 3, 6, 2, 5, 6, 8, 8, 8, 7, 4, 6, 5, 1, 5, 9, 6, 0, 9, 5, 8, 5, 7, 3, 9, 8, 3, 4, 6, 5, 7, 5, 1, 1, 5, 4, 1, 8, 5, 8, 2, 9, 6, 3, 3, 4, 0, 2, 4, 1, 1, 4, 7, 3, 5, 0, 2, 8, 8, 8, 6, 7, 7, 1, 2, 6, 6, 1, 6, 0, 2, 5, 8, 2, 4, 2, 3, 1, 5, 5, 4, 4, 0, 5, 4, 7, 6, 3, 4, 5, 5, 7, 5, 7, 0, 1, 1, 9, 7, 5, 0, 1, 9, 6, 3, 6, 5, 4, 0, 4, 5, 7, 2, 2, 2, 0, 5, 6, 6, 3, 7, 8, 6, 2, 4, 1, 1, 7, 5, 2, 5, 3, 4, 8, 5, 8, 8, 6, 1, 2, 3, 7, 6, 9, 0, 4, 5, 2, 3, 4, 9, 5, 5, 9, 4, 6, 4, 1, 1, 8, 9, 4, 4, 2, 3, 3, 0, 7, 1, 8, 8, 5, 0, 4, 7, 7, 1, 0, 1, 4, 1, 9, 0, 4, 1, 1, 0, 7, 3, 7, 6, 9, 0, 1, 8, 9, 0, 6, 6, 0, 9, 1, 6, 1, 2, 7, 8, 0, 5, 6, 8, 2, 5, 5, 1, 5, 9, 1, 8, 5, 3, 1, 2, 4, 0, 7, 3, 5, 4, 8, 0, 7, 1, 2, 3, 9, 8, 3, 8, 7, 7, 9, 7, 0, 9, 4, 0, 9, 6, 1, 9, 8, 6, 3, 7, 4, 9, 5, 4, 7, 1, 2, 1, 2, 3, 9, 4, 0, 5, 0, 0, 5, 5, 4, 6, 9, 9, 1, 6, 7, 7, 7, 4, 5, 1, 2, 0, 6, 3, 8, 9, 8, 4, 1, 0, 8, 3, 9, 8, 8, 7, 8, 3, 8, 0, 7, 6, 8, 6, 9, 9, 4, 5, 7, 2, 2, 1, 5, 3, 4, 0, 5, 5, 0, 8, 4, 7, 8, 9, 4, 2, 1, 7, 4, 4, 4, 9, 4, 3, 6, 0, 7, 7, 8, 0, 9, 1, 2, 6, 2, 9, 7, 1, 9, 9, 3, 3, 1, 2, 3, 5, 4, 3, 7, 4, 1, 4, 6, 6, 7, 5, 4, 6, 7, 7, 8, 1, 8, 1, 6, 2, 5, 5, 6, 1, 4, 6, 0, 1, 2, 0, 7, 6, 8, 8, 2, 8, 4, 5, 0, 0, 1, 7, 9, 7, 3, 5, 4, 0, 2, 8, 7, 1, 0, 8, 7, 6, 8, 4, 8, 2, 8, 0, 1, 5, 3, 8, 1, 7, 4, 9, 4, 7, 9, 5, 1, 8, 3, 0, 9, 3, 0, 2, 4, 2, 7, 6, 6, 9, 8, 8, 1, 5, 7, 7, 1, 9, 5, 4, 0, 0, 7, 8, 7, 3, 7, 0, 6, 5, 5, 4, 6, 7, 2, 6, 3, 2, 0, 4, 7, 8, 6, 4, 0, 1, 5, 3, 8, 3, 9, 7, 1, 7, 1, 0, 4, 8, 5, 6, 0, 6, 4, 1, 1, 2, 9, 0, 0, 2, 1, 3, 2, 7, 0, 1, 8, 5, 7, 0, 0, 5, 0, 4, 6, 2, 2, 5, 4, 1, 8, 2, 1, 5, 3, 8, 8, 9, 5, 6, 1, 8, 1, 4, 9, 0, 3, 1, 1, 4, 7, 8, 3, 4, 9, 6, 2, 8, 3, 8, 4, 9, 4, 7, 5, 0, 4, 6, 2, 5, 7, 3, 7, 4, 6, 6, 9, 3, 6, 5, 4, 1, 2, 1, 8, 1, 9, 4, 8, 9, 9, 3, 3, 7, 0, 0, 6, 1, 6, 6, 6, 4, 2, 2, 7, 0, 0, 0, 4, 0, 0, 1, 3, 0, 6, 5, 7, 9, 4, 6, 3, 7, 5, 1, 4, 7, 7, 5, 8, 0, 9, 1, 6, 1, 4, 9, 1, 6, 5, 3, 3, 0, 7, 1, 2, 7, 9, 3, 7, 4, 4, 4, 6, 7, 2, 7, 6, 1, 7, 8, 8, 7, 0, 1, 4, 0, 9, 7, 7, 9, 1, 2, 0, 4, 7, 4, 0, 4, 1, 7, 5, 7, 6, 9, 6, 0, 3, 1, 4, 7, 9, 3, 6, 7, 8, 4, 7, 4, 0, 8, 3, 0, 1, 7, 9, 6, 9, 1, 4, 6, 7, 1, 0, 6, 3, 7, 3, 1, 8, 4, 5, 9, 5, 8, 1, 0, 9, 0, 0, 4, 1, 1, 4, 7, 3, 0, 7, 5, 8, 9, 5, 4, 0, 4, 7, 2, 3, 8, 3, 8, 1, 1, 2, 4, 8, 1, 6, 8, 1, 8, 5, 3, 2, 7, 6, 2, 4, 9, 6, 2, 4, 9, 9, 6, 9, 9, 6, 7, 3, 4, 3, 3, 9, 4, 7, 7, 8, 1, 1, 0, 6, 5, 7, 9, 4, 7, 4, 7, 0, 0, 4, 9, 9, 7, 7, 5, 0, 1, 2, 3, 4, 6, 4, 0, 9, 8, 7, 8, 4, 2, 8, 9, 9, 1, 6, 7, 9, 9, 0, 1, 5, 1, 1, 3, 6, 7, 9, 8, 3, 3, 8, 5, 2, 4, 3, 6, 8, 6, 9, 6, 6, 9, 0, 1, 6, 8, 1, 8, 2, 1, 8, 1, 7, 1, 9, 1, 8, 3, 9, 4, 1, 0, 8, 4, 4, 4, 8, 2, 2, 5, 5, 0, 2, 6, 9, 8, 0, 1, 0, 0, 4, 8, 3, 4, 7, 7, 5, 9, 2, 5, 4, 4, 9, 9, 4, 8, 5, 6, 9, 1, 4, 6, 2, 8, 0, 1, 9, 6, 1, 6, 7, 1, 8, 5, 6, 4, 6, 4, 1, 1, 9, 8, 8, 9, 1, 2, 6, 6, 5, 2, 5, 6, 8, 3, 0, 3, 8, 6, 1, 5, 0, 3, 3, 1, 9, 2, 8, 7, 8, 2, 3, 6, 2, 5, 6, 9, 0, 7, 1, 1, 7, 9, 6, 1, 6, 7, 5, 4, 6, 3, 3, 6, 1, 0, 0, 9, 9, 8, 2, 9, 0, 2, 5, 4, 7, 2, 6, 5, 6, 6, 9, 3, 7, 0, 6, 3, 5, 6, 4, 3, 4, 6, 9, 8, 8, 6, 2, 0, 0, 3, 9, 2, 2, 8, 1, 9, 2, 4, 9, 3, 6, 2, 0, 6, 7, 0, 5, 0, 6, 3, 1, 3, 0, 9, 5, 4, 3, 9, 6, 6, 2, 9, 6, 7, 6, 5, 6, 8, 2, 1, 0, 3, 6, 5, 9, 3, 5, 0, 2, 0, 7, 4, 6, 8, 3, 3, 8, 6, 3, 8, 9, 4, 0, 8, 8, 4, 8, 2, 5, 7, 0, 3, 6, 8, 1, 5, 9, 6, 2, 8, 9, 4, 1, 0, 5, 5, 2, 2, 8, 2, 2, 6, 7, 4, 5, 3, 7, 4, 5, 8, 8, 3, 9, 5, 0, 6, 0, 6, 3, 6, 6, 9, 2, 5, 6, 5, 6, 3, 1, 7, 8, 6, 4, 7, 3, 3, 8, 6, 0, 9, 2, 8, 5, 4, 9, 6, 6, 4, 6, 0, 1, 1, 9, 4, 8, 2, 1, 9, 5, 8, 4, 8, 2, 3, 5, 2, 6, 4, 9, 2, 6, 2, 9, 8, 0, 5, 9, 2, 4, 5, 2, 1, 0, 7, 4, 4, 2, 5, 4, 6, 6, 6, 1, 5, 4, 0, 1, 9, 9, 5, 6, 5, 6, 9, 6, 6, 4, 5, 4, 8, 9, 0, 9, 5, 5, 5, 7, 9, 3, 3, 8, 4, 3, 9, 3, 1, 0, 2, 5, 2, 8, 7, 9, 7, 7, 7, 9, 2, 6, 0, 6, 7, 6, 1, 8, 0, 3, 8, 5, 0, 5, 6, 9, 1, 1, 2, 6, 8, 9, 7, 7, 5, 8, 6, 1, 4, 0, 1, 8, 4, 3, 4, 7, 9, 3, 7, 5, 5, 0, 9, 1, 4, 1, 6, 7, 4, 6, 9, 3, 4, 1, 1, 7, 8, 1, 6, 5, 9, 0, 0, 9, 5, 3, 8, 8, 2, 8, 5, 7, 0, 7, 0, 9, 6, 9, 2, 9, 4, 8, 5, 2, 0, 1, 6, 6, 6, 7, 4, 1, 7, 7, 8, 5, 7, 0, 6, 4, 2, 1, 4, 8, 0, 0, 2, 7, 5, 9, 1, 0, 4, 3, 7, 6, 6, 3, 1, 8, 4, 7, 2, 5, 9, 3, 1, 7, 1, 9, 2, 9, 6, 2, 6, 1, 8, 3, 9, 8, 4, 0, 4, 8, 4, 5, 1, 2, 2, 6, 4, 1, 8, 5, 7, 7, 7, 6, 5, 5, 7, 9, 9, 6, 2, 8, 2, 1, 3, 3, 4, 8, 9, 4, 6, 7, 6, 6, 8, 1, 0, 6, 1, 6, 5, 5, 9, 7, 2, 8, 7, 3, 7, 6, 1, 2, 1, 7, 4, 8, 8, 5, 0, 2, 3, 6, 1, 2, 6, 5, 0, 1, 5, 5, 2, 5, 1, 9, 8, 7, 1, 2, 7, 0, 9, 3, 1, 9, 0, 4, 6, 6, 5, 9, 9, 4, 2, 7, 1, 8, 1, 4, 2, 3, 7, 8, 4, 6, 4, 5, 1, 2, 9, 3, 5, 8, 0, 1, 9, 6, 7, 3, 7, 4, 4, 0, 6, 2, 1, 6, 3, 6, 7, 0, 5, 9, 8, 9, 3, 7, 9, 9, 4, 8, 8, 0, 1, 6, 4, 0, 2, 8, 1, 2, 1, 3, 3, 2, 7, 8, 7, 0, 4, 3, 6, 4, 5, 7, 7, 2, 5, 2, 4, 5, 0, 1, 7, 0, 7, 6, 0, 0, 0, 5, 1, 1, 2, 4, 6, 9, 8, 1, 6, 1, 6, 8, 5, 4, 0, 4, 0, 4, 9, 3, 8, 5, 4, 8, 6, 2, 8, 4, 4, 4, 0, 8, 7, 5, 2, 8, 9, 2, 9, 5, 9, 2, 1, 0, 4, 1, 7, 7, 1, 7, 3, 5, 8, 7, 2, 5, 1, 5, 2, 0, 6, 0, 1, 4, 4, 4, 8, 0, 3, 2, 6, 3, 5, 1, 3, 3, 0, 5, 1, 8, 3, 1, 8, 7, 8, 4, 2, 0, 0, 7, 8, 1, 3, 9, 0, 2, 8, 1, 4, 8, 8, 3, 0, 8, 5, 7, 5, 4, 7, 7, 6, 1, 8, 1, 7, 7, 0, 3, 1, 6, 5, 5, 3, 8, 9, 4, 0, 9, 5, 1, 7, 2, 1, 5, 2, 8, 3, 3, 6, 7, 1, 3, 4, 4, 5, 7, 0, 6, 7, 3, 3, 7, 8, 8, 2, 9, 6, 9, 7, 3, 2, 9, 3, 0, 5, 5, 6, 9, 1, 4, 1, 5, 6, 4, 1, 4, 6, 3, 3, 6, 3, 0, 8, 4, 7, 5, 5, 7, 0, 7, 9, 4, 4, 2, 9, 1, 9, 1, 8, 8, 8, 5, 8, 3, 8, 9, 3, 6, 0, 2, 1, 8, 4, 4, 0, 0, 9, 5, 3, 1, 5, 1, 3, 5, 6, 4, 2, 1, 5, 3, 0, 8, 6, 9, 6, 9, 6, 0, 4, 1, 2, 6, 4, 9, 1, 4, 9, 7, 8, 2, 6, 6, 9, 7, 8, 5, 0, 9, 6, 0, 6, 8, 1, 3, 2, 7, 5, 8, 4, 5, 6, 8, 9, 1, 9, 1, 8, 1, 5]\n",
      "Accuracy: 90.96 %\n"
     ]
    }
   ],
   "source": [
    "\n",
    "predictions = model.predict(X_test)\n",
    "\n",
    "# Get the predicted class labels for each sample\n",
    "y_pred = [np.argmax(prediction) for prediction in predictions]\n",
    "\n",
    "# Calculate accuracy\n",
    "correct_predictions = np.sum(np.array(y_pred) == np.array(y_test))\n",
    "accuracy = (correct_predictions / len(y_pred)) * 100\n",
    "\n",
    "print(\"Predicted labels:\", y_pred)\n",
    "print(\"Accuracy:\", accuracy, \"%\")\n",
    "\n",
    "\n",
    "\n"
   ]
  },
  {
   "cell_type": "raw",
   "metadata": {
    "colab": {
     "base_uri": "https://localhost:8080/",
     "height": 542
    },
    "id": "m5lom7JOOmJP",
    "outputId": "20fe4cd5-8097-411e-d250-49ffee41012e"
   },
   "source": [
    "# This code only work with Google Colab, plt.show will not work here\n",
    "\n",
    "predictions = model.predict(X_test)\n",
    "\n",
    "# Get the predicted class labels for each sample\n",
    "y_pred = [np.argmax(prediction) for prediction in predictions]\n",
    "\n",
    "# Calculate accuracy\n",
    "correct_predictions = np.sum(np.array(y_pred) == np.array(y_test))\n",
    "accuracy = (correct_predictions / len(y_pred)) * 100\n",
    "\n",
    "# Define a function to display images and their labels\n",
    "def plot_images(images, labels, predicted_labels):\n",
    "    plt.figure(figsize=(15, 10))\n",
    "    for i in range(15):\n",
    "        plt.subplot(5, 5, i + 1)\n",
    "        plt.xticks([])\n",
    "        plt.yticks([])\n",
    "        plt.grid(False)\n",
    "        plt.imshow(images[i], cmap=plt.cm.binary)\n",
    "        plt.xlabel(f\"Actual: {labels[i]}, Predicted: {predicted_labels[i]}\")\n",
    "        plt.subplots_adjust(wspace=0.5)\n",
    "        plot_images(X_test, y_test, y_pred)\n",
    "        plt.show()\n",
    "\n",
    "print(\"Accuracy:\", accuracy, \"%\")\n"
   ]
  },
  {
   "cell_type": "code",
   "execution_count": 49,
   "metadata": {},
   "outputs": [
    {
     "name": "stdout",
     "output_type": "stream",
     "text": [
      "Accuracy: 90.96 %\n"
     ]
    },
    {
     "data": {
      "image/png": "[encoded data removed]",
      "text/plain": [
       "<Figure size 1080x720 with 15 Axes>"
      ]
     },
     "metadata": {},
     "output_type": "display_data"
    }
   ],
   "source": [
    "\n",
    "# Define a function to display images and their labels\n",
    "def plot_images(images, labels, predicted_labels):\n",
    "    plt.figure(figsize=(15, 10))\n",
    "    for i in range(15):\n",
    "        plt.subplot(5, 5, i + 1)\n",
    "        plt.xticks([])\n",
    "        plt.yticks([])\n",
    "        plt.grid(False)\n",
    "        plt.imshow(images[i], cmap=plt.cm.binary)\n",
    "        plt.xlabel(f\"Actual: {labels[i]}, Predicted: {predicted_labels[i]}\")\n",
    "        plt.subplots_adjust(wspace=0.5)\n",
    "\n",
    "\n",
    "plot_images(X_test, y_test, y_pred)\n",
    "print(\"Accuracy:\", accuracy, \"%\")\n"
   ]
  },
  {
   "cell_type": "code",
   "execution_count": 41,
   "metadata": {
    "id": "DwnW7O6xQkEd"
   },
   "outputs": [],
   "source": [
    "\n",
    "model.save('fashion_mnist_model.h5')\n"
   ]
  },
  {
   "cell_type": "markdown",
   "metadata": {
    "id": "HYZMjZAbuPQg"
   },
   "source": [
    "# End of Assignment"
   ]
  },
  {
   "cell_type": "markdown",
   "metadata": {
    "id": "Go5plEVFuPQg"
   },
   "source": [
    "___\n",
    "\n",
    "<p style=\"text-align: center;\"><img src=\"https://docs.google.com/uc?id=1lY0Uj5R04yMY3-ZppPWxqCr5pvBLYPnV\" class=\"img-fluid\" alt=\"CLRSWY\"></p>\n",
    "\n",
    "___"
   ]
  }
 ],
 "metadata": {
  "colab": {
   "provenance": []
  },
  "kernelspec": {
   "display_name": "Python 3 (ipykernel)",
   "language": "python",
   "name": "python3"
  },
  "language_info": {
   "codemirror_mode": {
    "name": "ipython",
    "version": 3
   },
   "file_extension": ".py",
   "mimetype": "text/x-python",
   "name": "python",
   "nbconvert_exporter": "python",
   "pygments_lexer": "ipython3",
   "version": "3.9.18"
  },
  "toc": {
   "base_numbering": 1,
   "nav_menu": {},
   "number_sections": false,
   "sideBar": true,
   "skip_h1_title": false,
   "title_cell": "Table of Contents",
   "title_sidebar": "Contents",
   "toc_cell": false,
   "toc_position": {},
   "toc_section_display": true,
   "toc_window_display": true
  }
 },
 "nbformat": 4,
 "nbformat_minor": 1
}
